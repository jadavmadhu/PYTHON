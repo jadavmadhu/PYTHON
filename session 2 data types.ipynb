{
 "cells": [
  {
   "cell_type": "code",
   "execution_count": 8,
   "id": "9f605fed",
   "metadata": {},
   "outputs": [
    {
     "data": {
      "text/plain": [
       "1"
      ]
     },
     "execution_count": 8,
     "metadata": {},
     "output_type": "execute_result"
    }
   ],
   "source": [
    "0b01"
   ]
  },
  {
   "cell_type": "code",
   "execution_count": 10,
   "id": "96431bdc",
   "metadata": {},
   "outputs": [
    {
     "data": {
      "text/plain": [
       "375"
      ]
     },
     "execution_count": 10,
     "metadata": {},
     "output_type": "execute_result"
    }
   ],
   "source": [
    "0o567\n"
   ]
  },
  {
   "cell_type": "markdown",
   "id": "51bcf0c6",
   "metadata": {},
   "source": [
    "- Hexa:"
   ]
  },
  {
   "cell_type": "markdown",
   "id": "56f36306",
   "metadata": {},
   "source": [
    "\n",
    "\n",
    "\n",
    "- hexa means =16\n",
    "- hexa includea only 0 1 2 3 4 5 6 7 8 9  A B C D E F\n",
    "- A=10 B=11 C=12 D=13 E=14 F=15\n",
    "- representation is : 0x123,0xABC\n",
    "- wrong representation is : 0xABZ\n"
   ]
  },
  {
   "cell_type": "code",
   "execution_count": 12,
   "id": "88ef8881",
   "metadata": {},
   "outputs": [
    {
     "data": {
      "text/plain": [
       "291"
      ]
     },
     "execution_count": 12,
     "metadata": {},
     "output_type": "execute_result"
    }
   ],
   "source": [
    "0x123"
   ]
  },
  {
   "cell_type": "code",
   "execution_count": 13,
   "id": "fa63b0bf",
   "metadata": {},
   "outputs": [
    {
     "data": {
      "text/plain": [
       "2748"
      ]
     },
     "execution_count": 13,
     "metadata": {},
     "output_type": "execute_result"
    }
   ],
   "source": [
    "0xabc"
   ]
  },
  {
   "cell_type": "code",
   "execution_count": 14,
   "id": "6ea48f06",
   "metadata": {},
   "outputs": [
    {
     "ename": "SyntaxError",
     "evalue": "invalid hexadecimal literal (1330509026.py, line 1)",
     "output_type": "error",
     "traceback": [
      "\u001b[1;36m  Cell \u001b[1;32mIn[14], line 1\u001b[1;36m\u001b[0m\n\u001b[1;33m    0xabz\u001b[0m\n\u001b[1;37m       ^\u001b[0m\n\u001b[1;31mSyntaxError\u001b[0m\u001b[1;31m:\u001b[0m invalid hexadecimal literal\n"
     ]
    }
   ],
   "source": [
    "0xabz"
   ]
  },
  {
   "cell_type": "code",
   "execution_count": null,
   "id": "f832bd64",
   "metadata": {},
   "outputs": [],
   "source": [
    "2^2       2^1        2^0\n",
    "--------------------------\n",
    "4          2           1\n",
    "--------------------------\n",
    "0          0           0     0\n",
    "0          0           1     1\n",
    "0          1           0     2\n",
    "0          1           1     3 \n",
    "1          0           0     4\n",
    "1          0           1     5\n",
    "1          1           0     6\n",
    "1          1           1     7"
   ]
  },
  {
   "cell_type": "markdown",
   "id": "8be36e79",
   "metadata": {},
   "source": [
    "## Float\n"
   ]
  },
  {
   "cell_type": "code",
   "execution_count": 20,
   "id": "2d55076b",
   "metadata": {},
   "outputs": [
    {
     "data": {
      "text/plain": [
       "float"
      ]
     },
     "execution_count": 20,
     "metadata": {},
     "output_type": "execute_result"
    }
   ],
   "source": [
    "num_float=123.56\n",
    "type(num_float)"
   ]
  },
  {
   "cell_type": "code",
   "execution_count": 22,
   "id": "815721bd",
   "metadata": {},
   "outputs": [
    {
     "data": {
      "text/plain": [
       "(10.0, 100.0, 1000.0, 10000.0)"
      ]
     },
     "execution_count": 22,
     "metadata": {},
     "output_type": "execute_result"
    }
   ],
   "source": [
    "^1e1,1e2,1e3,1e4               #1^10 , 1^100, 1^1000, 1^10000"
   ]
  },
  {
   "cell_type": "code",
   "execution_count": 23,
   "id": "c843760f",
   "metadata": {},
   "outputs": [
    {
     "data": {
      "text/plain": [
       "(10.0, 100.0, 1000.0, 10000.0)"
      ]
     },
     "execution_count": 23,
     "metadata": {},
     "output_type": "execute_result"
    }
   ],
   "source": [
    "1e+1,1e+2,1e+3,1e+4         # above boath are same"
   ]
  },
  {
   "cell_type": "code",
   "execution_count": 24,
   "id": "0148a2ae",
   "metadata": {},
   "outputs": [
    {
     "data": {
      "text/plain": [
       "(0.1, 0.01, 0.001, 0.0001)"
      ]
     },
     "execution_count": 24,
     "metadata": {},
     "output_type": "execute_result"
    }
   ],
   "source": [
    "1e-1,1e-2,1e-3,1e-4          #1/10 , 1/100, 1/1000, 1/10000"
   ]
  },
  {
   "cell_type": "code",
   "execution_count": 31,
   "id": "5e0934af",
   "metadata": {},
   "outputs": [
    {
     "data": {
      "text/plain": [
       "0.0001"
      ]
     },
     "execution_count": 31,
     "metadata": {},
     "output_type": "execute_result"
    }
   ],
   "source": [
    "1e-4\n"
   ]
  },
  {
   "cell_type": "markdown",
   "id": "09ff336c",
   "metadata": {},
   "source": [
    "# Boolean"
   ]
  },
  {
   "cell_type": "markdown",
   "id": "a5d17a31",
   "metadata": {},
   "source": [
    "- True = 1\n",
    "- False = 0"
   ]
  },
  {
   "cell_type": "code",
   "execution_count": 33,
   "id": "ed2b98af",
   "metadata": {},
   "outputs": [
    {
     "data": {
      "text/plain": [
       "bool"
      ]
     },
     "execution_count": 33,
     "metadata": {},
     "output_type": "execute_result"
    }
   ],
   "source": [
    "ans=True\n",
    "type(\n",
    "ans)"
   ]
  },
  {
   "cell_type": "code",
   "execution_count": 34,
   "id": "95f9f5e3",
   "metadata": {},
   "outputs": [
    {
     "data": {
      "text/plain": [
       "bool"
      ]
     },
     "execution_count": 34,
     "metadata": {},
     "output_type": "execute_result"
    }
   ],
   "source": [
    "wrong_answer=False\n",
    "type(wrong_answer)"
   ]
  },
  {
   "cell_type": "code",
   "execution_count": 37,
   "id": "ef327a77",
   "metadata": {},
   "outputs": [
    {
     "data": {
      "text/plain": [
       "True"
      ]
     },
     "execution_count": 37,
     "metadata": {},
     "output_type": "execute_result"
    }
   ],
   "source": [
    "true=True\n",
    "true"
   ]
  },
  {
   "cell_type": "markdown",
   "id": "9d8023e9",
   "metadata": {},
   "source": [
    "# $string$"
   ]
  },
  {
   "cell_type": "code",
   "execution_count": 45,
   "id": "8591818b",
   "metadata": {},
   "outputs": [
    {
     "data": {
      "text/plain": [
       "'jadav'"
      ]
     },
     "execution_count": 45,
     "metadata": {},
     "output_type": "execute_result"
    }
   ],
   "source": [
    "#- string\n",
    "\n",
    "name = \"jadav\"\n",
    "name"
   ]
  },
  {
   "cell_type": "code",
   "execution_count": 46,
   "id": "60260766",
   "metadata": {},
   "outputs": [
    {
     "data": {
      "text/plain": [
       "'madhu'"
      ]
     },
     "execution_count": 46,
     "metadata": {},
     "output_type": "execute_result"
    }
   ],
   "source": [
    "name1 = 'madhu'\n",
    "name1"
   ]
  },
  {
   "cell_type": "code",
   "execution_count": 41,
   "id": "f2e1c5dc",
   "metadata": {},
   "outputs": [
    {
     "data": {
      "text/plain": [
       "str"
      ]
     },
     "execution_count": 41,
     "metadata": {},
     "output_type": "execute_result"
    }
   ],
   "source": [
    "type(name)"
   ]
  },
  {
   "cell_type": "code",
   "execution_count": 43,
   "id": "10bff2e7",
   "metadata": {},
   "outputs": [
    {
     "data": {
      "text/plain": [
       "str"
      ]
     },
     "execution_count": 43,
     "metadata": {},
     "output_type": "execute_result"
    }
   ],
   "source": [
    "type(name1)"
   ]
  },
  {
   "cell_type": "code",
   "execution_count": 47,
   "id": "34303332",
   "metadata": {},
   "outputs": [
    {
     "data": {
      "text/plain": [
       "\"i like 'python'\""
      ]
     },
     "execution_count": 47,
     "metadata": {},
     "output_type": "execute_result"
    }
   ],
   "source": [
    "name3=\"i like 'python'\"\n",
    "name3"
   ]
  },
  {
   "cell_type": "code",
   "execution_count": 49,
   "id": "22d93035",
   "metadata": {},
   "outputs": [
    {
     "data": {
      "text/plain": [
       "'i like \"python\"'"
      ]
     },
     "execution_count": 49,
     "metadata": {},
     "output_type": "execute_result"
    }
   ],
   "source": [
    "name4='i like \"python\"'\n",
    "name4"
   ]
  },
  {
   "cell_type": "markdown",
   "id": "4e9495a1",
   "metadata": {},
   "source": [
    "#  note\n",
    "- entire sentence in single quotes, then highlated word in double quote\n",
    "- entire sentence in double quotes, then highlated word in single quote"
   ]
  },
  {
   "cell_type": "code",
   "execution_count": 66,
   "id": "4ef2b8dd",
   "metadata": {},
   "outputs": [
    {
     "name": "stdout",
     "output_type": "stream",
     "text": [
      "\"hello how are \n",
      "you how do ypu do\n"
     ]
    }
   ],
   "source": [
    "name5=\"\"\"\"hello how are \n",
    "          you how do ypu do\"\"\"\n",
    "print(name5)"
   ]
  },
  {
   "cell_type": "code",
   "execution_count": 67,
   "id": "3c473d8d",
   "metadata": {},
   "outputs": [
    {
     "data": {
      "text/plain": [
       "'\"hello how are \\n          you how do ypu do'"
      ]
     },
     "execution_count": 67,
     "metadata": {},
     "output_type": "execute_result"
    }
   ],
   "source": [
    "name5=\"\"\"\"hello how are \n",
    "          you how do ypu do\"\"\"         \\n = theres a new line\n",
    "name5"
   ]
  },
  {
   "cell_type": "markdown",
   "id": "83fcb619",
   "metadata": {},
   "source": [
    "- strings can be represent in single(''),double(\"\"),triple(\"\"\" \"\"\") quotes\n",
    "- when a person is writing in triple quotes:** doc string **\n",
    "- triple quote are not used for coading part\n",
    "- "
   ]
  },
  {
   "cell_type": "code",
   "execution_count": null,
   "id": "3c330b07",
   "metadata": {},
   "outputs": [],
   "source": []
  },
  {
   "cell_type": "code",
   "execution_count": null,
   "id": "55a2f144",
   "metadata": {},
   "outputs": [],
   "source": []
  },
  {
   "cell_type": "code",
   "execution_count": null,
   "id": "069f9dbd",
   "metadata": {},
   "outputs": [],
   "source": []
  },
  {
   "cell_type": "code",
   "execution_count": null,
   "id": "f2201d48",
   "metadata": {},
   "outputs": [],
   "source": []
  }
 ],
 "metadata": {
  "kernelspec": {
   "display_name": "Python 3 (ipykernel)",
   "language": "python",
   "name": "python3"
  },
  "language_info": {
   "codemirror_mode": {
    "name": "ipython",
    "version": 3
   },
   "file_extension": ".py",
   "mimetype": "text/x-python",
   "name": "python",
   "nbconvert_exporter": "python",
   "pygments_lexer": "ipython3",
   "version": "3.11.7"
  }
 },
 "nbformat": 4,
 "nbformat_minor": 5
}
