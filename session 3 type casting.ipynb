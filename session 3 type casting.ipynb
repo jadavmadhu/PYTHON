{
 "cells": [
  {
   "cell_type": "markdown",
   "id": "c9a8b514",
   "metadata": {},
   "source": [
    "# type casting\n",
    "\n",
    "\n",
    "- convert one data type to another data type"
   ]
  },
  {
   "cell_type": "markdown",
   "id": "022ac7bd",
   "metadata": {},
   "source": [
    "# integer to other data types\n",
    "\n",
    "\n",
    "- int to float\n",
    "- int to string\n",
    "- int to bool"
   ]
  },
  {
   "cell_type": "code",
   "execution_count": 1,
   "id": "e02f9884",
   "metadata": {},
   "outputs": [
    {
     "data": {
      "text/plain": [
       "int"
      ]
     },
     "execution_count": 1,
     "metadata": {},
     "output_type": "execute_result"
    }
   ],
   "source": [
    "number=100\n",
    "type(number)"
   ]
  },
  {
   "cell_type": "code",
   "execution_count": 5,
   "id": "d7c11f72",
   "metadata": {},
   "outputs": [
    {
     "data": {
      "text/plain": [
       "float"
      ]
     },
     "execution_count": 5,
     "metadata": {},
     "output_type": "execute_result"
    }
   ],
   "source": [
    "num_float=float(number)\n",
    "type(num_float)                  #float conversion"
   ]
  },
  {
   "cell_type": "code",
   "execution_count": 6,
   "id": "fefe25a0",
   "metadata": {},
   "outputs": [
    {
     "data": {
      "text/plain": [
       "int"
      ]
     },
     "execution_count": 6,
     "metadata": {},
     "output_type": "execute_result"
    }
   ],
   "source": [
    "num_string=str(number)\n",
    "type(number)                      #string conversion"
   ]
  },
  {
   "cell_type": "code",
   "execution_count": 7,
   "id": "e18a8ad3",
   "metadata": {},
   "outputs": [
    {
     "data": {
      "text/plain": [
       "(100, 100.0, '100')"
      ]
     },
     "execution_count": 7,
     "metadata": {},
     "output_type": "execute_result"
    }
   ],
   "source": [
    "number,num_float,num_string"
   ]
  },
  {
   "cell_type": "code",
   "execution_count": 9,
   "id": "94f16cf7",
   "metadata": {},
   "outputs": [
    {
     "data": {
      "text/plain": [
       "(int, float, str)"
      ]
     },
     "execution_count": 9,
     "metadata": {},
     "output_type": "execute_result"
    }
   ],
   "source": [
    "type(number),type(num_float),type(num_string)"
   ]
  },
  {
   "cell_type": "code",
   "execution_count": 11,
   "id": "57246b30",
   "metadata": {},
   "outputs": [
    {
     "data": {
      "text/plain": [
       "True"
      ]
     },
     "execution_count": 11,
     "metadata": {},
     "output_type": "execute_result"
    }
   ],
   "source": [
    "num_bool=bool(number)\n",
    "num_bool                            #bool conversion"
   ]
  },
  {
   "cell_type": "code",
   "execution_count": 12,
   "id": "ac4e7721",
   "metadata": {},
   "outputs": [
    {
     "data": {
      "text/plain": [
       "(100, 100.0, '100', True)"
      ]
     },
     "execution_count": 12,
     "metadata": {},
     "output_type": "execute_result"
    }
   ],
   "source": [
    "number,num_float,num_string,num_bool"
   ]
  },
  {
   "cell_type": "code",
   "execution_count": 25,
   "id": "5f3a3afd",
   "metadata": {},
   "outputs": [],
   "source": [
    "number1=200\n",
    "num1_float=float(number1)\n",
    "num1_string=str(number1)\n",
    "num1_bool=bool(number1)"
   ]
  },
  {
   "cell_type": "code",
   "execution_count": 16,
   "id": "7a5f1e7a",
   "metadata": {},
   "outputs": [
    {
     "data": {
      "text/plain": [
       "(200, 200.0, '200', True)"
      ]
     },
     "execution_count": 16,
     "metadata": {},
     "output_type": "execute_result"
    }
   ],
   "source": [
    "number1,num1_float,num1_string,num1_bool"
   ]
  },
  {
   "cell_type": "code",
   "execution_count": 18,
   "id": "21108ead",
   "metadata": {},
   "outputs": [
    {
     "data": {
      "text/plain": [
       "(True, True, False)"
      ]
     },
     "execution_count": 18,
     "metadata": {},
     "output_type": "execute_result"
    }
   ],
   "source": [
    "bool(100),bool(-100),bool(0)"
   ]
  },
  {
   "cell_type": "markdown",
   "id": "e72e2c6d",
   "metadata": {},
   "source": [
    "**note**\n",
    "\n"
   ]
  },
  {
   "cell_type": "markdown",
   "id": "3542ef34",
   "metadata": {},
   "source": [
    "# Float to other data types\n",
    "\n",
    "- float to integer\n",
    "- float to string\n",
    "- float to bool\n"
   ]
  },
  {
   "cell_type": "code",
   "execution_count": 22,
   "id": "49eb0e8c",
   "metadata": {},
   "outputs": [
    {
     "data": {
      "text/plain": [
       "(100, '100.25', True, False)"
      ]
     },
     "execution_count": 22,
     "metadata": {},
     "output_type": "execute_result"
    }
   ],
   "source": [
    "number2=100.25\n",
    "int(number2),str(number2),bool(number2),bool(0.0)"
   ]
  },
  {
   "cell_type": "markdown",
   "id": "8370363f",
   "metadata": {},
   "source": [
    "# string to other data types\n",
    "\n",
    "- str to int\n",
    "- str to float\n",
    "- str to bool\n"
   ]
  },
  {
   "cell_type": "markdown",
   "id": "9c1bb273",
   "metadata": {},
   "source": [
    "**case1 string to all other**"
   ]
  },
  {
   "cell_type": "code",
   "execution_count": 26,
   "id": "fa982331",
   "metadata": {},
   "outputs": [],
   "source": [
    "num1='100'\n",
    "num_int=int(num1)\n",
    "num_float=float(num1),\n",
    "num_bool=bool(num1)\n"
   ]
  },
  {
   "cell_type": "code",
   "execution_count": 27,
   "id": "9eb18454",
   "metadata": {},
   "outputs": [
    {
     "data": {
      "text/plain": [
       "(int, tuple, bool)"
      ]
     },
     "execution_count": 27,
     "metadata": {},
     "output_type": "execute_result"
    }
   ],
   "source": [
    "type(num_int),type(num_float),type(num_bool)"
   ]
  },
  {
   "cell_type": "markdown",
   "id": "505587f5",
   "metadata": {},
   "source": [
    "**Note**\n",
    "\n",
    "- float is boos it wont give error\n",
    "- int conversion off float value in string format will fail\n",
    "- int wont accept the float value in string format:  below is the example\n",
    "- float accept the float value in string format: below is the example"
   ]
  },
  {
   "cell_type": "code",
   "execution_count": 36,
   "id": "ac76b119",
   "metadata": {},
   "outputs": [
    {
     "ename": "ValueError",
     "evalue": "invalid literal for int() with base 10: '100.25'",
     "output_type": "error",
     "traceback": [
      "\u001b[1;31m---------------------------------------------------------------------------\u001b[0m",
      "\u001b[1;31mValueError\u001b[0m                                Traceback (most recent call last)",
      "Cell \u001b[1;32mIn[36], line 1\u001b[0m\n\u001b[1;32m----> 1\u001b[0m \u001b[38;5;28mint\u001b[39m(\u001b[38;5;241m100.25\u001b[39m),\u001b[38;5;28;43mint\u001b[39;49m\u001b[43m(\u001b[49m\u001b[38;5;124;43m'\u001b[39;49m\u001b[38;5;124;43m100.25\u001b[39;49m\u001b[38;5;124;43m'\u001b[39;49m\u001b[43m)\u001b[49m,\u001b[38;5;28mint\u001b[39m(\u001b[38;5;241m100\u001b[39m),\u001b[38;5;28mint\u001b[39m(\u001b[38;5;124m'\u001b[39m\u001b[38;5;124m100\u001b[39m\u001b[38;5;124m'\u001b[39m)\n",
      "\u001b[1;31mValueError\u001b[0m: invalid literal for int() with base 10: '100.25'"
     ]
    }
   ],
   "source": [
    "int(100.25),int('100.25'),int(100),int('100')"
   ]
  },
  {
   "cell_type": "code",
   "execution_count": null,
   "id": "45bd4d6b",
   "metadata": {},
   "outputs": [],
   "source": []
  },
  {
   "cell_type": "code",
   "execution_count": 30,
   "id": "34af22e7",
   "metadata": {},
   "outputs": [
    {
     "data": {
      "text/plain": [
       "100"
      ]
     },
     "execution_count": 30,
     "metadata": {},
     "output_type": "execute_result"
    }
   ],
   "source": [
    "int(100)"
   ]
  },
  {
   "cell_type": "code",
   "execution_count": 35,
   "id": "ecee09b7",
   "metadata": {},
   "outputs": [
    {
     "data": {
      "text/plain": [
       "(100.25, 100.0, 100.0, 100.25)"
      ]
     },
     "execution_count": 35,
     "metadata": {},
     "output_type": "execute_result"
    }
   ],
   "source": [
    "float(100.25),float(100),float('100'),float('100.25')"
   ]
  },
  {
   "cell_type": "markdown",
   "id": "47646e74",
   "metadata": {},
   "source": [
    "case3"
   ]
  },
  {
   "cell_type": "code",
   "execution_count": 46,
   "id": "03519fba",
   "metadata": {},
   "outputs": [
    {
     "ename": "ValueError",
     "evalue": "invalid literal for int() with base 10: 'python'",
     "output_type": "error",
     "traceback": [
      "\u001b[1;31m---------------------------------------------------------------------------\u001b[0m",
      "\u001b[1;31mValueError\u001b[0m                                Traceback (most recent call last)",
      "Cell \u001b[1;32mIn[46], line 2\u001b[0m\n\u001b[0;32m      1\u001b[0m name\u001b[38;5;241m=\u001b[39m\u001b[38;5;124m'\u001b[39m\u001b[38;5;124mpython\u001b[39m\u001b[38;5;124m'\u001b[39m\n\u001b[1;32m----> 2\u001b[0m name_int\u001b[38;5;241m=\u001b[39m\u001b[38;5;28;43mint\u001b[39;49m\u001b[43m(\u001b[49m\u001b[43mname\u001b[49m\u001b[43m)\u001b[49m ,   \u001b[38;5;66;03m#fails\u001b[39;00m\n\u001b[0;32m      3\u001b[0m name_float\u001b[38;5;241m=\u001b[39m\u001b[38;5;28mfloat\u001b[39m(name),   \u001b[38;5;66;03m#fails\u001b[39;00m\n\u001b[0;32m      4\u001b[0m name_bool\u001b[38;5;241m=\u001b[39m\u001b[38;5;28mbool\u001b[39m(name)\n",
      "\u001b[1;31mValueError\u001b[0m: invalid literal for int() with base 10: 'python'"
     ]
    }
   ],
   "source": [
    "name='python'\n",
    "name_int=int(name) ,   #fails\n",
    "name_float=float(name),   #fails\n",
    "name_bool=bool(name)   # true\n"
   ]
  },
  {
   "cell_type": "code",
   "execution_count": 40,
   "id": "10b154f5",
   "metadata": {},
   "outputs": [
    {
     "data": {
      "text/plain": [
       "True"
      ]
     },
     "execution_count": 40,
     "metadata": {},
     "output_type": "execute_result"
    }
   ],
   "source": [
    "name_bool=bool(name)\n",
    "name_bool"
   ]
  },
  {
   "cell_type": "code",
   "execution_count": 42,
   "id": "c25ec1be",
   "metadata": {},
   "outputs": [
    {
     "data": {
      "text/plain": [
       "(True, True, True, True, True)"
      ]
     },
     "execution_count": 42,
     "metadata": {},
     "output_type": "execute_result"
    }
   ],
   "source": [
    "bool('100'),bool('100.25'),bool('0'),bool('0.0'),bool('python')\n"
   ]
  },
  {
   "cell_type": "code",
   "execution_count": 43,
   "id": "f599c03e",
   "metadata": {},
   "outputs": [
    {
     "data": {
      "text/plain": [
       "(True, True, False, False, False)"
      ]
     },
     "execution_count": 43,
     "metadata": {},
     "output_type": "execute_result"
    }
   ],
   "source": [
    "bool(100),bool(100.25),bool(0),bool(0.0),bool('')"
   ]
  },
  {
   "cell_type": "markdown",
   "id": "e53f38e6",
   "metadata": {},
   "source": [
    "# bool to all other data types"
   ]
  },
  {
   "cell_type": "code",
   "execution_count": 48,
   "id": "21a92295",
   "metadata": {},
   "outputs": [
    {
     "data": {
      "text/plain": [
       "float"
      ]
     },
     "execution_count": 48,
     "metadata": {},
     "output_type": "execute_result"
    }
   ],
   "source": [
    "num2=100.10\n",
    "type(num2)"
   ]
  },
  {
   "cell_type": "code",
   "execution_count": 50,
   "id": "34fa9c88",
   "metadata": {},
   "outputs": [],
   "source": [
    "num_int=int(num1)\n",
    "num_float=float(num1),\n",
    "num_str=str(num1)"
   ]
  },
  {
   "cell_type": "code",
   "execution_count": 51,
   "id": "98783160",
   "metadata": {},
   "outputs": [
    {
     "data": {
      "text/plain": [
       "(int, tuple, str)"
      ]
     },
     "execution_count": 51,
     "metadata": {},
     "output_type": "execute_result"
    }
   ],
   "source": [
    "type(num_int),type(num_float),type(num_str)"
   ]
  },
  {
   "cell_type": "code",
   "execution_count": 59,
   "id": "4a09da94",
   "metadata": {},
   "outputs": [
    {
     "ename": "ValueError",
     "evalue": "invalid literal for int() with base 10: '100.25'",
     "output_type": "error",
     "traceback": [
      "\u001b[1;31m---------------------------------------------------------------------------\u001b[0m",
      "\u001b[1;31mValueError\u001b[0m                                Traceback (most recent call last)",
      "Cell \u001b[1;32mIn[59], line 2\u001b[0m\n\u001b[0;32m      1\u001b[0m \u001b[38;5;28mprint\u001b[39m(\u001b[38;5;28mint\u001b[39m(\u001b[38;5;241m100.25\u001b[39m),\n\u001b[1;32m----> 2\u001b[0m       \u001b[38;5;28;43mint\u001b[39;49m\u001b[43m(\u001b[49m\u001b[38;5;124;43m'\u001b[39;49m\u001b[38;5;124;43m100.25\u001b[39;49m\u001b[38;5;124;43m'\u001b[39;49m\u001b[43m)\u001b[49m,\n\u001b[0;32m      3\u001b[0m       \u001b[38;5;28mint\u001b[39m(\u001b[38;5;28;01mTrue\u001b[39;00m),\n\u001b[0;32m      4\u001b[0m       \u001b[38;5;28mint\u001b[39m(\u001b[38;5;28;01mFalse\u001b[39;00m))\n",
      "\u001b[1;31mValueError\u001b[0m: invalid literal for int() with base 10: '100.25'"
     ]
    }
   ],
   "source": [
    "print(int(100.25),\n",
    "      int('100.25'),\n",
    "      int(True),\n",
    "      int(False))"
   ]
  },
  {
   "cell_type": "code",
   "execution_count": 53,
   "id": "087a735b",
   "metadata": {},
   "outputs": [
    {
     "ename": "ValueError",
     "evalue": "invalid literal for int() with base 10: '100.25'",
     "output_type": "error",
     "traceback": [
      "\u001b[1;31m---------------------------------------------------------------------------\u001b[0m",
      "\u001b[1;31mValueError\u001b[0m                                Traceback (most recent call last)",
      "Cell \u001b[1;32mIn[53], line 1\u001b[0m\n\u001b[1;32m----> 1\u001b[0m \u001b[38;5;28;43mint\u001b[39;49m\u001b[43m(\u001b[49m\u001b[38;5;124;43m'\u001b[39;49m\u001b[38;5;124;43m100.25\u001b[39;49m\u001b[38;5;124;43m'\u001b[39;49m\u001b[43m)\u001b[49m\n",
      "\u001b[1;31mValueError\u001b[0m: invalid literal for int() with base 10: '100.25'"
     ]
    }
   ],
   "source": [
    "int('100.25')"
   ]
  },
  {
   "cell_type": "code",
   "execution_count": 54,
   "id": "e74c55a5",
   "metadata": {},
   "outputs": [
    {
     "data": {
      "text/plain": [
       "(100.25, 100.25, 1.0, 0.0)"
      ]
     },
     "execution_count": 54,
     "metadata": {},
     "output_type": "execute_result"
    }
   ],
   "source": [
    "float(100.25),float('100.25'),float(True),float(False)"
   ]
  },
  {
   "cell_type": "code",
   "execution_count": 55,
   "id": "17bc6c43",
   "metadata": {},
   "outputs": [
    {
     "data": {
      "text/plain": [
       "('100.25', '100.25', 'True', 'False')"
      ]
     },
     "execution_count": 55,
     "metadata": {},
     "output_type": "execute_result"
    }
   ],
   "source": [
    "str(100.25),str('100.25'),str(True),str(False)"
   ]
  },
  {
   "cell_type": "code",
   "execution_count": 57,
   "id": "00dd2537",
   "metadata": {},
   "outputs": [
    {
     "name": "stdout",
     "output_type": "stream",
     "text": [
      "100.25 100.25 True False\n"
     ]
    }
   ],
   "source": [
    "print(str(100.25),\n",
    "str('100.25'),\n",
    "str(True),\n",
    "str(False))"
   ]
  },
  {
   "cell_type": "code",
   "execution_count": null,
   "id": "ed51ead8",
   "metadata": {},
   "outputs": [],
   "source": []
  },
  {
   "cell_type": "code",
   "execution_count": null,
   "id": "9a2d9385",
   "metadata": {},
   "outputs": [],
   "source": []
  }
 ],
 "metadata": {
  "kernelspec": {
   "display_name": "Python 3 (ipykernel)",
   "language": "python",
   "name": "python3"
  },
  "language_info": {
   "codemirror_mode": {
    "name": "ipython",
    "version": 3
   },
   "file_extension": ".py",
   "mimetype": "text/x-python",
   "name": "python",
   "nbconvert_exporter": "python",
   "pygments_lexer": "ipython3",
   "version": "3.11.7"
  }
 },
 "nbformat": 4,
 "nbformat_minor": 5
}
