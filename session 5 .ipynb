{
 "cells": [
  {
   "cell_type": "markdown",
   "id": "6227b75a",
   "metadata": {},
   "source": [
    "#print is used to see some answer\n",
    "\n",
    "#if more than two answers are there  we can check all answers using print statement\n",
    "\n"
   ]
  },
  {
   "cell_type": "code",
   "execution_count": 1,
   "id": "837acecd",
   "metadata": {},
   "outputs": [
    {
     "data": {
      "text/plain": [
       "10"
      ]
     },
     "execution_count": 1,
     "metadata": {},
     "output_type": "execute_result"
    }
   ],
   "source": [
    "a=10\n",
    "a"
   ]
  },
  {
   "cell_type": "code",
   "execution_count": 2,
   "id": "ac40f71f",
   "metadata": {},
   "outputs": [
    {
     "name": "stdout",
     "output_type": "stream",
     "text": [
      "10\n"
     ]
    }
   ],
   "source": [
    "print(a)"
   ]
  },
  {
   "cell_type": "code",
   "execution_count": 3,
   "id": "4b2d89c7",
   "metadata": {},
   "outputs": [
    {
     "data": {
      "text/plain": [
       "20"
      ]
     },
     "execution_count": 3,
     "metadata": {},
     "output_type": "execute_result"
    }
   ],
   "source": [
    "a=10        # gives the final answer\n",
    "b=20\n",
    "a\n",
    "b"
   ]
  },
  {
   "cell_type": "code",
   "execution_count": 4,
   "id": "e308cf95",
   "metadata": {},
   "outputs": [
    {
     "name": "stdout",
     "output_type": "stream",
     "text": [
      "10\n",
      "20\n"
     ]
    }
   ],
   "source": [
    "a=10        \n",
    "b=20\n",
    "print(a)\n",
    "print(b)"
   ]
  },
  {
   "cell_type": "code",
   "execution_count": 11,
   "id": "c81dc99a",
   "metadata": {},
   "outputs": [
    {
     "name": "stdout",
     "output_type": "stream",
     "text": [
      "addition of  100 and 20 is: 120\n"
     ]
    }
   ],
   "source": [
    "num1=100\n",
    "num2=20\n",
    "add=num1+num2\n",
    "print(\"addition of \",num1 ,\"and\", num2, \"is:\",add)"
   ]
  },
  {
   "cell_type": "code",
   "execution_count": 35,
   "id": "93bf1382",
   "metadata": {},
   "outputs": [
    {
     "name": "stdout",
     "output_type": "stream",
     "text": [
      "the addition of 200 and 300 is 500\n"
     ]
    }
   ],
   "source": [
    "num1=200\n",
    "num2=300\n",
    "add=num1+num2\n",
    "print(\"the addition of {} and {} is {}\".format(num1,num2,add))"
   ]
  },
  {
   "cell_type": "code",
   "execution_count": 33,
   "id": "7a09406e",
   "metadata": {},
   "outputs": [
    {
     "name": "stdout",
     "output_type": "stream",
     "text": [
      "the average of  100 200 and  300 is 200.0\n",
      "the average of 100,200,300 is 200.0 :\n"
     ]
    }
   ],
   "source": [
    "num1=100\n",
    "num2=200\n",
    "num3=300\n",
    "avg=(num1+num2+num3)/3\n",
    "print(\"the average of \",num1,num2,\"and \",num3,\"is\",avg)\n",
    "print(\"the average of {},{},{} is {} :\".format(num1,num2,num3,avg))     # format method"
   ]
  },
  {
   "cell_type": "markdown",
   "id": "c94e657f",
   "metadata": {},
   "source": [
    "## F string method"
   ]
  },
  {
   "cell_type": "code",
   "execution_count": 34,
   "id": "0fa0a3e4",
   "metadata": {},
   "outputs": [
    {
     "name": "stdout",
     "output_type": "stream",
     "text": [
      "the average of 100,200,300 is 200.0 \n"
     ]
    }
   ],
   "source": [
    "num1=100\n",
    "num2=200\n",
    "num3=300\n",
    "avg=(num1+num2+num3)/3\n",
    "print(f\"the average of {num1},{num2},{num3} is {avg} \")     #simply add \"f\" and writethe code in strings \n",
    "                                                              # and variables should  be in curly brackets"
   ]
  },
  {
   "cell_type": "code",
   "execution_count": 36,
   "id": "d03949a5",
   "metadata": {},
   "outputs": [
    {
     "name": "stdout",
     "output_type": "stream",
     "text": [
      "addition of  100 and 20 is: 120\n",
      "the addition of 200 and 300 is 500\n",
      "the average of 100,200,300 is 200.0 \n"
     ]
    }
   ],
   "source": [
    "num1=100\n",
    "num2=20\n",
    "add=num1+num2\n",
    "print(\"addition of \",num1 ,\"and\", num2, \"is:\",add)    # regular\n",
    "\n",
    "num1=200\n",
    "num2=300\n",
    "add=num1+num2\n",
    "print(\"the addition of {} and {} is {}\".format(num1,num2,add))   # format method\n",
    "\n",
    "num1=100\n",
    "num2=200\n",
    "num3=300\n",
    "avg=(num1+num2+num3)/3\n",
    "print(f\"the average of {num1},{num2},{num3} is {avg} \")            # f string method  "
   ]
  },
  {
   "cell_type": "code",
   "execution_count": null,
   "id": "dab918a9",
   "metadata": {},
   "outputs": [],
   "source": []
  },
  {
   "cell_type": "code",
   "execution_count": null,
   "id": "7215f6bd",
   "metadata": {},
   "outputs": [],
   "source": []
  },
  {
   "cell_type": "code",
   "execution_count": null,
   "id": "889038f2",
   "metadata": {},
   "outputs": [],
   "source": []
  },
  {
   "cell_type": "code",
   "execution_count": null,
   "id": "745759a2",
   "metadata": {},
   "outputs": [],
   "source": []
  },
  {
   "cell_type": "code",
   "execution_count": null,
   "id": "3a6c98e8",
   "metadata": {},
   "outputs": [],
   "source": []
  },
  {
   "cell_type": "markdown",
   "id": "bedae7e5",
   "metadata": {},
   "source": [
    "# Round off values"
   ]
  },
  {
   "cell_type": "code",
   "execution_count": 29,
   "id": "2a8ad307",
   "metadata": {},
   "outputs": [
    {
     "data": {
      "text/plain": [
       "545415.5"
      ]
     },
     "execution_count": 29,
     "metadata": {},
     "output_type": "execute_result"
    }
   ],
   "source": [
    "val=545415.4545\n",
    "round(val,1)"
   ]
  },
  {
   "cell_type": "code",
   "execution_count": 31,
   "id": "0598f034",
   "metadata": {},
   "outputs": [
    {
     "data": {
      "text/plain": [
       "122.56"
      ]
     },
     "execution_count": 31,
     "metadata": {},
     "output_type": "execute_result"
    }
   ],
   "source": [
    "val2=122.5567\n",
    "round(val2,2)"
   ]
  },
  {
   "cell_type": "markdown",
   "id": "53d8b002",
   "metadata": {},
   "source": [
    "## end operator"
   ]
  },
  {
   "cell_type": "code",
   "execution_count": 37,
   "id": "e9026abc",
   "metadata": {},
   "outputs": [
    {
     "name": "stdout",
     "output_type": "stream",
     "text": [
      "hello\n",
      "good morning\n"
     ]
    }
   ],
   "source": [
    "print(\"hello\")\n",
    "print(\"good morning\")"
   ]
  },
  {
   "cell_type": "code",
   "execution_count": 39,
   "id": "05a00ff0",
   "metadata": {},
   "outputs": [
    {
     "name": "stdout",
     "output_type": "stream",
     "text": [
      "hello  good morning\n"
     ]
    }
   ],
   "source": [
    "print(\"hello\",end=\"  \")\n",
    "print(\"good morning\")"
   ]
  },
  {
   "cell_type": "code",
   "execution_count": 42,
   "id": "5a9f16e4",
   "metadata": {},
   "outputs": [
    {
     "name": "stdout",
     "output_type": "stream",
     "text": [
      "1\n",
      "2\n",
      "3\n"
     ]
    }
   ],
   "source": [
    "print(1)\n",
    "print(2)\n",
    "print(3)"
   ]
  },
  {
   "cell_type": "code",
   "execution_count": 41,
   "id": "ba82ed6e",
   "metadata": {},
   "outputs": [
    {
     "name": "stdout",
     "output_type": "stream",
     "text": [
      "1 2\n",
      "3\n"
     ]
    }
   ],
   "source": [
    "print(1,end=\" \")        #if we give single end it takes the after print it wont take for all\n",
    "print(2)              \n",
    "print(3) "
   ]
  },
  {
   "cell_type": "code",
   "execution_count": 40,
   "id": "7576a408",
   "metadata": {},
   "outputs": [
    {
     "name": "stdout",
     "output_type": "stream",
     "text": [
      "1 2 3\n"
     ]
    }
   ],
   "source": [
    "print(1,end=\" \")\n",
    "print(2,end=\" \")            #we need to give for all the out put\n",
    "print(3)"
   ]
  },
  {
   "cell_type": "markdown",
   "id": "ce2975d1",
   "metadata": {},
   "source": [
    "## seperate statement\n",
    "\n",
    "- one print ststement onlt\n",
    "- in side one print ststement there are multiple values\n",
    "- to seperate the multiple values we use seperate ststement"
   ]
  },
  {
   "cell_type": "code",
   "execution_count": 51,
   "id": "f1c21c02",
   "metadata": {},
   "outputs": [
    {
     "name": "stdout",
     "output_type": "stream",
     "text": [
      "hello& hai\n"
     ]
    }
   ],
   "source": [
    "print(\"hello\",\"hai\",sep=\"& \")"
   ]
  },
  {
   "cell_type": "code",
   "execution_count": 52,
   "id": "6991ae0d",
   "metadata": {},
   "outputs": [
    {
     "name": "stdout",
     "output_type": "stream",
     "text": [
      "hello  hai\n"
     ]
    }
   ],
   "source": [
    "print(\"hello\",\"hai\",sep=\"  \")"
   ]
  },
  {
   "cell_type": "code",
   "execution_count": 53,
   "id": "287e0c6c",
   "metadata": {},
   "outputs": [
    {
     "name": "stdout",
     "output_type": "stream",
     "text": [
      "1 2 3 .\n"
     ]
    }
   ],
   "source": [
    "print(1,2,3,\".\")"
   ]
  },
  {
   "cell_type": "code",
   "execution_count": 55,
   "id": "4ef3165b",
   "metadata": {},
   "outputs": [
    {
     "name": "stdout",
     "output_type": "stream",
     "text": [
      "1    2    3    .\n"
     ]
    }
   ],
   "source": [
    "print(1,2,3,\".\",sep=\"    \")"
   ]
  },
  {
   "cell_type": "code",
   "execution_count": 56,
   "id": "3869a8e8",
   "metadata": {},
   "outputs": [
    {
     "name": "stdout",
     "output_type": "stream",
     "text": [
      "1 2 3.\n"
     ]
    }
   ],
   "source": [
    "print(1,2,end=\" \")\n",
    "print(3,\".\",sep=\"\")"
   ]
  },
  {
   "cell_type": "code",
   "execution_count": null,
   "id": "4733ce9f",
   "metadata": {},
   "outputs": [],
   "source": []
  }
 ],
 "metadata": {
  "kernelspec": {
   "display_name": "Python 3 (ipykernel)",
   "language": "python",
   "name": "python3"
  },
  "language_info": {
   "codemirror_mode": {
    "name": "ipython",
    "version": 3
   },
   "file_extension": ".py",
   "mimetype": "text/x-python",
   "name": "python",
   "nbconvert_exporter": "python",
   "pygments_lexer": "ipython3",
   "version": "3.11.7"
  }
 },
 "nbformat": 4,
 "nbformat_minor": 5
}
