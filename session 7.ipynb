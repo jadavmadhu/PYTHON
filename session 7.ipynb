{
 "cells": [
  {
   "cell_type": "markdown",
   "id": "4fd800ef",
   "metadata": {},
   "source": [
    "Q: wap ask the user enter two numbers from keyboard\n",
    "    \n",
    "    # print addition\n",
    "    #print substrstion\n",
    "    #print multiplication\n",
    "    #print division using f string method"
   ]
  },
  {
   "cell_type": "code",
   "execution_count": 6,
   "id": "e62ca6ef",
   "metadata": {},
   "outputs": [
    {
     "name": "stdout",
     "output_type": "stream",
     "text": [
      "enter the number1: 100\n",
      "enter number2: 200\n",
      "the addition of 100 abd 200 is 300\n"
     ]
    }
   ],
   "source": [
    "num1=eval(input(\"enter the number1: \"))\n",
    "num2=eval(input(\"enter number2: \"))\n",
    "add=num1+num2\n",
    "print(f\"the addition of {num1} abd {num2} is {add}\")"
   ]
  },
  {
   "cell_type": "code",
   "execution_count": 8,
   "id": "177191d7",
   "metadata": {},
   "outputs": [
    {
     "name": "stdout",
     "output_type": "stream",
     "text": [
      "enter the number1: 200\n",
      "enter number2: 100\n",
      "thesubstration of 200 abd 100 is 100\n"
     ]
    }
   ],
   "source": [
    "num1=eval(input(\"enter the number1: \"))\n",
    "num2=eval(input(\"enter number2: \"))\n",
    "sub=num1-num2\n",
    "print(f\"thesubstration of {num1} abd {num2} is {sub}\")"
   ]
  },
  {
   "cell_type": "code",
   "execution_count": 9,
   "id": "44378177",
   "metadata": {},
   "outputs": [
    {
     "name": "stdout",
     "output_type": "stream",
     "text": [
      "enter the number1: 5\n",
      "enter number2: 6\n",
      "the addition of 5 abd 6 is 30\n"
     ]
    }
   ],
   "source": [
    "num1=eval(input(\"enter the number1: \"))\n",
    "num2=eval(input(\"enter number2: \"))\n",
    "mul=num1*num2\n",
    "print(f\"the addition of {num1} abd {num2} is {mul}\")"
   ]
  },
  {
   "cell_type": "code",
   "execution_count": 10,
   "id": "d6e4296f",
   "metadata": {},
   "outputs": [
    {
     "name": "stdout",
     "output_type": "stream",
     "text": [
      "enter the number1: 554.55\n",
      "enter number2: 5489.2\n",
      "the addition of 554.55 abd 5489.2 is 0.1\n"
     ]
    }
   ],
   "source": [
    "num1=eval(input(\"enter the number1: \"))\n",
    "num2=eval(input(\"enter number2: \"))\n",
    "div=num1/num2\n",
    "div=round(num1/num2,1)\n",
    "print(f\"the addition of {num1} abd {num2} is {div}\")"
   ]
  },
  {
   "cell_type": "markdown",
   "id": "a57bc1b3",
   "metadata": {},
   "source": [
    "Q2: ask the user enter 3 numbers and find the avg of those"
   ]
  },
  {
   "cell_type": "code",
   "execution_count": 12,
   "id": "12ce2862",
   "metadata": {},
   "outputs": [
    {
     "name": "stdout",
     "output_type": "stream",
     "text": [
      "enter the number1: 545.654\n",
      "enter number2: 454\n",
      "enter number3: 56454.\n",
      "the avg of 545.654 abd 454 is 19151.333333333332\n"
     ]
    }
   ],
   "source": [
    "num1=eval(input(\"enter the number1: \"))\n",
    "num2=eval(input(\"enter number2: \")) \n",
    "num3=eval(input(\"enter number3: \"))\n",
    "avg=round(num1+num2+num3)/3\n",
    "\n",
    "print(f\"the avg of {num1} abd {num2} is {avg}\")"
   ]
  },
  {
   "cell_type": "markdown",
   "id": "1c7e3d3a",
   "metadata": {},
   "source": [
    "Q3: ask the user enter the bill \n",
    "    # ask the user how much tip percentage\n",
    "    #calculate the total bill"
   ]
  },
  {
   "cell_type": "code",
   "execution_count": 20,
   "id": "c49b80fa",
   "metadata": {},
   "outputs": [
    {
     "name": "stdout",
     "output_type": "stream",
     "text": [
      "enter the total bill1000\n",
      "enter the tip percentage10\n",
      "the total bill is 1100.0\n"
     ]
    }
   ],
   "source": [
    "bill=eval(input(\"enter the total bill\"))\n",
    "tip_per=eval(input(\"enter the tip percentage\"))\n",
    "tip_amount=tip_per*bill/100\n",
    "total_bill=bill+tip_amount\n",
    "print(\"the total bill is\" ,total_bill)\n"
   ]
  },
  {
   "cell_type": "markdown",
   "id": "c6f46116",
   "metadata": {},
   "source": [
    "Q4: ask the user enter the weight in kgs\n",
    "    display the answer in pounds\n",
    "    1kg=2.2 pounds"
   ]
  },
  {
   "cell_type": "code",
   "execution_count": 21,
   "id": "6095477c",
   "metadata": {},
   "outputs": [
    {
     "name": "stdout",
     "output_type": "stream",
     "text": [
      "enter the weight5\n",
      "how much pounds for 1kg2.2\n",
      "the weigt in pounds is  11.0\n"
     ]
    }
   ],
   "source": [
    "weight_kg=eval(input(\"enter the weight\"))\n",
    "pounds=eval(input(\"how much pounds for 1kg:\"))\n",
    "weight_pounds=round(pounds*weight_kg,2)\n",
    "print(f\"the weigt in pounds is \",weight_pounds)"
   ]
  },
  {
   "cell_type": "markdown",
   "id": "4a7be5a2",
   "metadata": {},
   "source": [
    "## using randint method"
   ]
  },
  {
   "cell_type": "code",
   "execution_count": 26,
   "id": "c5077ac4",
   "metadata": {},
   "outputs": [
    {
     "name": "stdout",
     "output_type": "stream",
     "text": [
      "the add of 54 and 97 is 151\n"
     ]
    }
   ],
   "source": [
    "import random\n",
    "n1=random.randint(1,100)\n",
    "n2=random.randint(1,100)\n",
    "add=n1+n2\n",
    "\n",
    "print(f\"the add of {n1} and {n2} is {add}\")\n"
   ]
  },
  {
   "cell_type": "code",
   "execution_count": 30,
   "id": "e2893b13",
   "metadata": {},
   "outputs": [
    {
     "name": "stdout",
     "output_type": "stream",
     "text": [
      "the total bill is 73.13\n"
     ]
    }
   ],
   "source": [
    "bill=random.randint(1,100)\n",
    "tip_per=random.randint(1,100)\n",
    "tip_amount=tip_per*bill/100\n",
    "total_bill=round(bill+tip_amount,3)\n",
    "print(\"the total bill is\" ,total_bill)\n"
   ]
  },
  {
   "cell_type": "code",
   "execution_count": 28,
   "id": "79af463d",
   "metadata": {},
   "outputs": [
    {
     "name": "stdout",
     "output_type": "stream",
     "text": [
      "the avg of 72 abd 26 is 62.0\n"
     ]
    }
   ],
   "source": [
    "num1=random.randint(1,100)\n",
    "num2= random.randint(1,100)\n",
    "num3=random.randint(1,100)\n",
    "avg=round(num1+num2+num3)/3\n",
    "\n",
    "print(f\"the avg of {num1} abd {num2} is {avg}\")"
   ]
  },
  {
   "cell_type": "code",
   "execution_count": 32,
   "id": "a42076e5",
   "metadata": {},
   "outputs": [
    {
     "name": "stdout",
     "output_type": "stream",
     "text": [
      "the weigt65 in pounds46 is 2990\n"
     ]
    }
   ],
   "source": [
    "weight_kg=random.randint(1,100)\n",
    "pounds=random.randint(1,100)\n",
    "weight_pounds=round(pounds*weight_kg,2)\n",
    "print(f\"the weigt{weight_kg} in pounds{pounds} is {weight_pounds}\")"
   ]
  },
  {
   "cell_type": "code",
   "execution_count": 34,
   "id": "5333f561",
   "metadata": {},
   "outputs": [
    {
     "name": "stdout",
     "output_type": "stream",
     "text": [
      "the adddition of67 and 73 is 140\n",
      "the subtraction of 67 and 73 is -6\n",
      " the mul of 67 and 73 is 4891\n",
      "the div of 67 and 73 is 0.9178082191780822\n"
     ]
    }
   ],
   "source": [
    "import time\n",
    "n1=random.randint(1,100)\n",
    "n2=random.randint(1,100)\n",
    "add=n1+n2\n",
    "sub=n1-n2\n",
    "mul=n1*n2\n",
    "div=n1/n2\n",
    "time.sleep(2)\n",
    "print(f'the adddition of{n1} and {n2} is {add}')\n",
    "time.sleep(2)\n",
    "print(f'the subtraction of {n1} and {n2} is {sub}')\n",
    "time.sleep(2)\n",
    "print(f' the mul of {n1} and {n2} is {mul}')\n",
    "time.sleep(2)\n",
    "print(f'the div of {n1} and {n2} is {div}')"
   ]
  },
  {
   "cell_type": "code",
   "execution_count": null,
   "id": "4126976a",
   "metadata": {},
   "outputs": [],
   "source": []
  },
  {
   "cell_type": "code",
   "execution_count": null,
   "id": "ab5a1433",
   "metadata": {},
   "outputs": [],
   "source": []
  },
  {
   "cell_type": "code",
   "execution_count": null,
   "id": "a7c53379",
   "metadata": {},
   "outputs": [],
   "source": []
  },
  {
   "cell_type": "code",
   "execution_count": null,
   "id": "e595c96c",
   "metadata": {},
   "outputs": [],
   "source": []
  },
  {
   "cell_type": "code",
   "execution_count": null,
   "id": "287b623a",
   "metadata": {},
   "outputs": [],
   "source": []
  },
  {
   "cell_type": "code",
   "execution_count": null,
   "id": "5e136ffa",
   "metadata": {},
   "outputs": [],
   "source": []
  },
  {
   "cell_type": "code",
   "execution_count": null,
   "id": "3da66858",
   "metadata": {},
   "outputs": [],
   "source": []
  },
  {
   "cell_type": "code",
   "execution_count": null,
   "id": "80a82c44",
   "metadata": {},
   "outputs": [],
   "source": []
  },
  {
   "cell_type": "code",
   "execution_count": null,
   "id": "d4c9d0f8",
   "metadata": {},
   "outputs": [],
   "source": []
  },
  {
   "cell_type": "code",
   "execution_count": null,
   "id": "734165a5",
   "metadata": {},
   "outputs": [],
   "source": []
  },
  {
   "cell_type": "code",
   "execution_count": null,
   "id": "fb3ab638",
   "metadata": {},
   "outputs": [],
   "source": []
  },
  {
   "cell_type": "code",
   "execution_count": null,
   "id": "0410461e",
   "metadata": {},
   "outputs": [],
   "source": []
  },
  {
   "cell_type": "code",
   "execution_count": null,
   "id": "772c0056",
   "metadata": {},
   "outputs": [],
   "source": []
  },
  {
   "cell_type": "code",
   "execution_count": null,
   "id": "5e783a25",
   "metadata": {},
   "outputs": [],
   "source": []
  }
 ],
 "metadata": {
  "kernelspec": {
   "display_name": "Python 3 (ipykernel)",
   "language": "python",
   "name": "python3"
  },
  "language_info": {
   "codemirror_mode": {
    "name": "ipython",
    "version": 3
   },
   "file_extension": ".py",
   "mimetype": "text/x-python",
   "name": "python",
   "nbconvert_exporter": "python",
   "pygments_lexer": "ipython3",
   "version": "3.11.7"
  }
 },
 "nbformat": 4,
 "nbformat_minor": 5
}
