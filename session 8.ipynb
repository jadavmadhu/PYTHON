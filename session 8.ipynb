{
 "cells": [
  {
   "cell_type": "markdown",
   "id": "ffb3952b",
   "metadata": {},
   "source": [
    "#wap ask the user\n",
    "\n",
    " #calculate the area of the circle\n",
    " \n",
    " #ask the user take radius from keyboard\n",
    " \n",
    " #areaof circle=pi *r *r"
   ]
  },
  {
   "cell_type": "code",
   "execution_count": 3,
   "id": "7e6971af",
   "metadata": {},
   "outputs": [
    {
     "name": "stdout",
     "output_type": "stream",
     "text": [
      "enter the radius:5\n",
      "area of circle is78.54\n"
     ]
    }
   ],
   "source": [
    "import math\n",
    "pi=math.pi\n",
    "\n",
    "radius=eval(input(\"enter the radius:\"))\n",
    "area=round(pi*radius*radius,2)\n",
    "print(f\"area of circle is{area}\")"
   ]
  },
  {
   "cell_type": "code",
   "execution_count": 4,
   "id": "0185c374",
   "metadata": {},
   "outputs": [
    {
     "name": "stdout",
     "output_type": "stream",
     "text": [
      "enter the radius:5\n",
      "area of circle is78.54\n"
     ]
    }
   ],
   "source": [
    "import math\n",
    "pi=math.pi\n",
    "\n",
    "radius=eval(input(\"enter the radius:\"))\n",
    "area=round(pi*radius**2,2)\n",
    "print(f\"area of circle is{area}\")"
   ]
  },
  {
   "cell_type": "markdown",
   "id": "f1640dc1",
   "metadata": {},
   "source": [
    "#wap ask the user take the breadyh and height\n",
    "\n",
    "#calculate the area of triangle\n",
    "\n",
    "#formula=0.5*b*h"
   ]
  },
  {
   "cell_type": "code",
   "execution_count": 12,
   "id": "ac8b1c3c",
   "metadata": {},
   "outputs": [
    {
     "name": "stdout",
     "output_type": "stream",
     "text": [
      "enter breadth:54.8\n",
      "enter height:656.9\n",
      "area of triangle is 17999.06\n"
     ]
    }
   ],
   "source": [
    "breadth=eval(input(\"enter breadth:\"))\n",
    "height=eval(input(\"enter height:\"))\n",
    "area=round(0.5*breadth*height,2)\n",
    "print(f\"area of triangle is {area}\")"
   ]
  },
  {
   "cell_type": "code",
   "execution_count": 14,
   "id": "f845d014",
   "metadata": {},
   "outputs": [
    {
     "name": "stdout",
     "output_type": "stream",
     "text": [
      "area of triangle is 47.5\n"
     ]
    }
   ],
   "source": [
    "import random\n",
    "random.randint\n",
    "\n",
    "breadth=random.randint(1,10)\n",
    "height=random.randint(1,20)\n",
    "area=round(0.5*breadth*height,2)\n",
    "print(f\"area of triangle is {area}\")"
   ]
  },
  {
   "cell_type": "code",
   "execution_count": 15,
   "id": "17a3225a",
   "metadata": {},
   "outputs": [
    {
     "name": "stdout",
     "output_type": "stream",
     "text": [
      "enter start value 10\n",
      "enter the end value11\n",
      "area of triangle is 60.5\n"
     ]
    }
   ],
   "source": [
    "import random\n",
    "random.randint\n",
    "start=eval(input(\"enter start value \"))\n",
    "end=eval(input(\"enter the end value\"))\n",
    "breadth=random.randint(start,end)\n",
    "height=random.randint(start,end)\n",
    "area=round(0.5*breadth*height,2)\n",
    "print(f\"area of triangle is {area}\")"
   ]
  },
  {
   "cell_type": "markdown",
   "id": "618ab5c0",
   "metadata": {},
   "source": [
    "#wap ask the user calculate areaof the rectangle\n",
    "#m1 hard coaded way\n",
    "#m2 key board\n",
    "#3 random"
   ]
  },
  {
   "cell_type": "code",
   "execution_count": 27,
   "id": "7e64ec27",
   "metadata": {},
   "outputs": [
    {
     "name": "stdout",
     "output_type": "stream",
     "text": [
      "150 50\n"
     ]
    }
   ],
   "source": [
    "length=10\n",
    "breadth=15\n",
    "area=length*breadth\n",
    "perimeter=2*(length+breadth)\n",
    "print(area, perimeter)"
   ]
  },
  {
   "cell_type": "code",
   "execution_count": 24,
   "id": "a90d601d",
   "metadata": {},
   "outputs": [
    {
     "name": "stdout",
     "output_type": "stream",
     "text": [
      "enter length value 10\n",
      "enter breadth value 25\n",
      "area and perimeter of triangle is :250,70\n"
     ]
    }
   ],
   "source": [
    "length=eval(input(\"enter length value \"))\n",
    "breadth=eval(input(\"enter breadth value \"))\n",
    "area=length*breadth\n",
    "perimeter=2*(length+breadth)\n"
   ]
  },
  {
   "cell_type": "code",
   "execution_count": 28,
   "id": "b38a0b12",
   "metadata": {},
   "outputs": [
    {
     "name": "stdout",
     "output_type": "stream",
     "text": [
      "enter breadth value 1\n",
      "enter the length value510\n",
      "area of triangle is 100\n"
     ]
    }
   ],
   "source": [
    "import random\n",
    "random.randint\n",
    "breadth=eval(input(\"enter breadth value \"))\n",
    "length=eval(input(\"enter the length value\"))\n",
    "breadth=random.randint(start,end)\n",
    "length=random.randint(start,end)\n",
    "area=length*breadth\n",
    "perimeter=2*(length+breadth)\n",
    "print(f\"area of triangle is {area}\")"
   ]
  },
  {
   "cell_type": "markdown",
   "id": "a435aeea",
   "metadata": {},
   "source": [
    "#wap ask the user calculate valume of the cylonder\n",
    "#m1 hard coaded way\n",
    "#m2 key board\n",
    "#3 random\n",
    "#formula=pi *r *r *h"
   ]
  },
  {
   "cell_type": "code",
   "execution_count": 34,
   "id": "e8f4460e",
   "metadata": {},
   "outputs": [
    {
     "name": "stdout",
     "output_type": "stream",
     "text": [
      "area of cylonder is  4712.38898038469\n"
     ]
    }
   ],
   "source": [
    "import math\n",
    "pi=math.pi\n",
    "r=10\n",
    "h=15\n",
    "area=pi*r*r*h\n",
    "\n",
    "print(\"area of cylonder is \",area)"
   ]
  },
  {
   "cell_type": "code",
   "execution_count": 32,
   "id": "c54d6369",
   "metadata": {},
   "outputs": [
    {
     "name": "stdout",
     "output_type": "stream",
     "text": [
      "enter radius:5\n",
      "enter height:5\n",
      "area of cylinder is 4712.39\n"
     ]
    }
   ],
   "source": [
    "radius=eval(input(\"enter radius:\"))\n",
    "height=eval(input(\"enter height:\"))\n",
    "area=round(pi*r*r*h,2)\n",
    "print(f\"area of cylinder is {area}\")"
   ]
  },
  {
   "cell_type": "code",
   "execution_count": 33,
   "id": "52b2a0a2",
   "metadata": {},
   "outputs": [
    {
     "name": "stdout",
     "output_type": "stream",
     "text": [
      "enter radius value 5\n",
      "enter the height value5\n",
      "area of cylinder is 4712.39\n"
     ]
    }
   ],
   "source": [
    "import random\n",
    "random.randint\n",
    "radius=eval(input(\"enter radius value \"))\n",
    "height=eval(input(\"enter the height value\"))\n",
    "radius=random.randint(start,end)\n",
    "height=random.randint(start,end)\n",
    "area=round(pi*r*r*h,2)\n",
    "\n",
    "print(f\"area of cylinder is {area}\")"
   ]
  },
  {
   "cell_type": "markdown",
   "id": "67a6151a",
   "metadata": {},
   "source": [
    "** conversation between mother and doughter and conductor**\n",
    "#dou:hey mom!\n",
    "#mom: hello betahi\n",
    "#d  : mom do you know ts govt implemented free bus scheme\n",
    "#m  : oh! wow super\n",
    "#d  :lets's go to granny home\n",
    "\n",
    "#con: where you want to go\n",
    "#con:"
   ]
  },
  {
   "cell_type": "code",
   "execution_count": 41,
   "id": "b64f2d23",
   "metadata": {},
   "outputs": [
    {
     "name": "stdout",
     "output_type": "stream",
     "text": [
      "doughter:hi mom\n",
      "mother:hi beta\n",
      "doughter:mom do you know ts govt introduced free bus\n",
      "mother:super\n",
      "doughter:lets go to granny home\n",
      "conductor:where you want to go\n",
      "conductor:show me id card\n",
      "motheri dont have\n",
      "conductor:you need to pay money\n",
      "mother:how much per km\n",
      "conductor:5\n",
      "mother:how many km\n",
      "conductor:100\n",
      "mother:how much money\n",
      "105\n",
      "doughter:i have\n",
      "conductor:enjoy\n"
     ]
    },
    {
     "data": {
      "text/plain": [
       "'enjoy'"
      ]
     },
     "execution_count": 41,
     "metadata": {},
     "output_type": "execute_result"
    }
   ],
   "source": [
    "input(\"doughter:\")\n",
    "input(\"mother:\")\n",
    "input(\"doughter:\")\n",
    "input(\"mother:\")\n",
    "input(\"doughter:\")\n",
    "input(\"conductor:\")\n",
    "input(\"conductor:\")\n",
    "input(\"mother\")\n",
    "input(\"conductor:\")\n",
    "input(\"mother:\")\n",
    "variable1=eval(input(\"conductor:\"))\n",
    "input(\"mother:\")\n",
    "variable2=eval(input(\"conductor:\"))\n",
    "input(\"mother:\")\n",
    "fare_amount=variable1*variable2\n",
    "print(fare_amount)\n",
    "input(\"doughter:\")\n",
    "input(\"conductor:\")\n"
   ]
  },
  {
   "cell_type": "code",
   "execution_count": 38,
   "id": "befdd452",
   "metadata": {},
   "outputs": [
    {
     "ename": "SyntaxError",
     "evalue": "invalid non-printable character U+200B (1874202557.py, line 18)",
     "output_type": "error",
     "traceback": [
      "\u001b[1;36m  Cell \u001b[1;32mIn[38], line 18\u001b[1;36m\u001b[0m\n\u001b[1;33m    ​\u001b[0m\n\u001b[1;37m    ^\u001b[0m\n\u001b[1;31mSyntaxError\u001b[0m\u001b[1;31m:\u001b[0m invalid non-printable character U+200B\n"
     ]
    }
   ],
   "source": [
    "doughter:hi mom\n",
    "mother:hi beta\n",
    "doughter:mom do you know ts govt introduced free bus\n",
    "mother:wow super\n",
    "doughter:lets go to granny home\n",
    "conductor:where you want to go\n",
    "conductor:show me id card\n",
    "mother\n",
    "e\n",
    "conductor:you need to pay money\n",
    "mother:how much per km\n",
    "conductor:5\n",
    "mother:how many km\n",
    "conductor:100\n",
    "mother:how much money\n",
    "doughter:i have id card\n",
    "conductor:enjoy ride\n",
    "5100\n",
    "​"
   ]
  },
  {
   "cell_type": "code",
   "execution_count": null,
   "id": "aa128852",
   "metadata": {},
   "outputs": [],
   "source": []
  }
 ],
 "metadata": {
  "kernelspec": {
   "display_name": "Python 3 (ipykernel)",
   "language": "python",
   "name": "python3"
  },
  "language_info": {
   "codemirror_mode": {
    "name": "ipython",
    "version": 3
   },
   "file_extension": ".py",
   "mimetype": "text/x-python",
   "name": "python",
   "nbconvert_exporter": "python",
   "pygments_lexer": "ipython3",
   "version": "3.11.7"
  }
 },
 "nbformat": 4,
 "nbformat_minor": 5
}
