{
 "cells": [
  {
   "cell_type": "markdown",
   "id": "399fd605",
   "metadata": {},
   "source": [
    "- we have 3 cases in condition\n",
    "\n",
    "- case-1: if\n",
    "    \n",
    "- case-2: else\n",
    "\n",
    "- case-3:if-elif-else \n",
    "\n",
    "- conditional ststements means we are asking a question \n",
    "- when we ask the question computer will give True anf Fasle\n",
    "- if False also we cam excute statements"
   ]
  },
  {
   "cell_type": "markdown",
   "id": "1d892652",
   "metadata": {},
   "source": [
    "# case-1:if"
   ]
  },
  {
   "cell_type": "markdown",
   "id": "b535ffc0",
   "metadata": {},
   "source": [
    "- syntax\n",
    "- if the ststements stsrts with ant keyword\n",
    "- end the ststement  :  will be there\n",
    "- when: is there then we need to provide indention\n",
    "- indentation means next lines has start eith some space\n",
    "\n",
    "- if (condition):\n",
    "\n",
    "-    (statement1>\n",
    "\n",
    "-   (statement2>\n",
    "\n",
    "-    _______\n",
    "\n",
    "-    (ststement>\n",
    "\n",
    "- if the condition is true\n",
    "- it will go inside and run the cell\n"
   ]
  },
  {
   "cell_type": "code",
   "execution_count": 2,
   "id": "fedc6340",
   "metadata": {},
   "outputs": [
    {
     "name": "stdout",
     "output_type": "stream",
     "text": [
      "True\n"
     ]
    }
   ],
   "source": [
    "if 100>10:\n",
    "    print(True)"
   ]
  },
  {
   "cell_type": "code",
   "execution_count": 3,
   "id": "ae85a017",
   "metadata": {},
   "outputs": [
    {
     "name": "stdout",
     "output_type": "stream",
     "text": [
      "manish\n"
     ]
    }
   ],
   "source": [
    "if 100>10:\n",
    "    print(\"manish\")"
   ]
  },
  {
   "cell_type": "code",
   "execution_count": 5,
   "id": "d961d4ae",
   "metadata": {},
   "outputs": [
    {
     "ename": "SyntaxError",
     "evalue": "invalid syntax (514866441.py, line 1)",
     "output_type": "error",
     "traceback": [
      "\u001b[1;36m  Cell \u001b[1;32mIn[5], line 1\u001b[1;36m\u001b[0m\n\u001b[1;33m    if :\u001b[0m\n\u001b[1;37m       ^\u001b[0m\n\u001b[1;31mSyntaxError\u001b[0m\u001b[1;31m:\u001b[0m invalid syntax\n"
     ]
    }
   ],
   "source": [
    "if :\n",
    "    print(\"manish\")"
   ]
  },
  {
   "cell_type": "code",
   "execution_count": 9,
   "id": "e89bd9fe",
   "metadata": {},
   "outputs": [],
   "source": [
    "if False:\n",
    "    print(\"manish\")"
   ]
  },
  {
   "cell_type": "code",
   "execution_count": 10,
   "id": "b3c357a4",
   "metadata": {},
   "outputs": [
    {
     "name": "stdout",
     "output_type": "stream",
     "text": [
      "manish\n"
     ]
    }
   ],
   "source": [
    "if True:                       # if the condition is true , then only it enters the statement or blog\n",
    "    print(\"manish\")"
   ]
  },
  {
   "cell_type": "code",
   "execution_count": 14,
   "id": "4674d80f",
   "metadata": {},
   "outputs": [
    {
     "name": "stdout",
     "output_type": "stream",
     "text": [
      "1\n",
      "2\n",
      "manish\n",
      "bye\n",
      "hello\n",
      "python\n"
     ]
    }
   ],
   "source": [
    "print(1)\n",
    "print(2)\n",
    "if 100>10:\n",
    "    print(\"manish\")\n",
    "    print(\"bye\")\n",
    "print(\"hello\")\n",
    "print(\"python\")\n"
   ]
  },
  {
   "cell_type": "code",
   "execution_count": 15,
   "id": "7e5bb9d1",
   "metadata": {},
   "outputs": [
    {
     "name": "stdout",
     "output_type": "stream",
     "text": [
      "1\n",
      "2\n",
      "hello\n",
      "python\n"
     ]
    }
   ],
   "source": [
    "print(1)\n",
    "print(2)\n",
    "if 100<10:\n",
    "    print(\"manish\")\n",
    "    print(\"bye\")\n",
    "print(\"hello\")\n",
    "print(\"python\")\n"
   ]
  },
  {
   "cell_type": "code",
   "execution_count": null,
   "id": "0e2958fe",
   "metadata": {},
   "outputs": [],
   "source": [
    "print(1)\n",
    "print(2)\n",
    "if 100<10:\n",
    "    print(\"manish\")\n",
    "    print(\"bye\")\n",
    "print(\"hello\")\n",
    "print(\"python\")\n"
   ]
  },
  {
   "cell_type": "code",
   "execution_count": 18,
   "id": "66977eb6",
   "metadata": {},
   "outputs": [
    {
     "name": "stdout",
     "output_type": "stream",
     "text": [
      "1\n",
      "2\n",
      "hello\n",
      "python\n",
      "jadav\n"
     ]
    }
   ],
   "source": [
    "print(1)\n",
    "print(2)\n",
    "if 100<10:\n",
    "    print(\"manish\")\n",
    "    print(\"bye\")\n",
    "print(\"hello\")\n",
    "print(\"python\")\n",
    "\n",
    "if 100>10:\n",
    "    print(\"jadav\")"
   ]
  },
  {
   "cell_type": "markdown",
   "id": "90c9620f",
   "metadata": {},
   "source": [
    "# case-2: if-else"
   ]
  },
  {
   "cell_type": "markdown",
   "id": "ed85608d",
   "metadata": {},
   "source": [
    "- if (condition):\n",
    "    st1\n",
    "    st2\n",
    "- else:\n",
    "    st1\n",
    "    \n",
    "- if block required condition\n",
    "- if block condition fails \n",
    "- then autometically it goes to else block\n",
    "- else block no need condition"
   ]
  },
  {
   "cell_type": "code",
   "execution_count": 19,
   "id": "2b581f4b",
   "metadata": {},
   "outputs": [
    {
     "name": "stdout",
     "output_type": "stream",
     "text": [
      "jadav\n"
     ]
    }
   ],
   "source": [
    "if 100>10:\n",
    "    print(\"jadav\")\n",
    "else:\n",
    "    print(\"madhu\")"
   ]
  },
  {
   "cell_type": "code",
   "execution_count": 20,
   "id": "d899917d",
   "metadata": {},
   "outputs": [
    {
     "name": "stdout",
     "output_type": "stream",
     "text": [
      "madhu\n"
     ]
    }
   ],
   "source": [
    "if 100<10:\n",
    "    print(\"jadav\")\n",
    "else:\n",
    "    print(\"madhu\")"
   ]
  },
  {
   "cell_type": "code",
   "execution_count": null,
   "id": "a47ff3e0",
   "metadata": {},
   "outputs": [],
   "source": [
    "if 100>10:\n",
    "    print(\"jadav\")\n",
    "else :\n",
    "    print(\"madhu\")"
   ]
  },
  {
   "cell_type": "code",
   "execution_count": 21,
   "id": "76926868",
   "metadata": {},
   "outputs": [
    {
     "ename": "SyntaxError",
     "evalue": "invalid syntax (1187821823.py, line 5)",
     "output_type": "error",
     "traceback": [
      "\u001b[1;36m  Cell \u001b[1;32mIn[21], line 5\u001b[1;36m\u001b[0m\n\u001b[1;33m    else:\u001b[0m\n\u001b[1;37m    ^\u001b[0m\n\u001b[1;31mSyntaxError\u001b[0m\u001b[1;31m:\u001b[0m invalid syntax\n"
     ]
    }
   ],
   "source": [
    "if 100>10:\n",
    "    print(\"jadav\")\n",
    "    print(2)\n",
    "print(3)\n",
    "else:\n",
    "    print(\"madhu\")\n",
    "    print(4)"
   ]
  },
  {
   "cell_type": "code",
   "execution_count": 23,
   "id": "0bf5d1c8",
   "metadata": {},
   "outputs": [
    {
     "ename": "IndentationError",
     "evalue": "expected an indented block after 'if' statement on line 1 (1308202179.py, line 2)",
     "output_type": "error",
     "traceback": [
      "\u001b[1;36m  Cell \u001b[1;32mIn[23], line 2\u001b[1;36m\u001b[0m\n\u001b[1;33m    print(\"jadav\")\u001b[0m\n\u001b[1;37m    ^\u001b[0m\n\u001b[1;31mIndentationError\u001b[0m\u001b[1;31m:\u001b[0m expected an indented block after 'if' statement on line 1\n"
     ]
    }
   ],
   "source": [
    "if 100>10:\n",
    "print(\"jadav\")\n",
    "    print(2)\n",
    "    print(3)\n",
    "else:\n",
    "    print(\"madhu\")\n",
    "    print(4)"
   ]
  },
  {
   "cell_type": "code",
   "execution_count": 24,
   "id": "fd2d44c1",
   "metadata": {},
   "outputs": [
    {
     "name": "stdout",
     "output_type": "stream",
     "text": [
      "jadav\n",
      "2\n",
      "3\n"
     ]
    }
   ],
   "source": [
    "if 100>10:\n",
    "    print(\"jadav\")\n",
    "    print(2)\n",
    "    print(3)\n",
    "else:\n",
    "    print(\"madhu\")\n",
    "    print(4)\n",
    "    print(5)"
   ]
  },
  {
   "cell_type": "code",
   "execution_count": 28,
   "id": "e21da50a",
   "metadata": {},
   "outputs": [
    {
     "name": "stdout",
     "output_type": "stream",
     "text": [
      "jadav\n",
      "2\n",
      "3\n",
      "5\n"
     ]
    }
   ],
   "source": [
    "if 100>10:\n",
    "    print(\"jadav\")\n",
    "    print(2)\n",
    "    print(3)\n",
    "else:\n",
    "    print(\"madhu\")\n",
    "    print(4)\n",
    "print(5)"
   ]
  },
  {
   "cell_type": "code",
   "execution_count": 29,
   "id": "33b91f07",
   "metadata": {},
   "outputs": [
    {
     "name": "stdout",
     "output_type": "stream",
     "text": [
      "jadav\n"
     ]
    },
    {
     "ename": "ZeroDivisionError",
     "evalue": "division by zero",
     "output_type": "error",
     "traceback": [
      "\u001b[1;31m---------------------------------------------------------------------------\u001b[0m",
      "\u001b[1;31mZeroDivisionError\u001b[0m                         Traceback (most recent call last)",
      "Cell \u001b[1;32mIn[29], line 3\u001b[0m\n\u001b[0;32m      1\u001b[0m \u001b[38;5;28;01mif\u001b[39;00m \u001b[38;5;241m100\u001b[39m\u001b[38;5;241m>\u001b[39m\u001b[38;5;241m10\u001b[39m:\n\u001b[0;32m      2\u001b[0m     \u001b[38;5;28mprint\u001b[39m(\u001b[38;5;124m\"\u001b[39m\u001b[38;5;124mjadav\u001b[39m\u001b[38;5;124m\"\u001b[39m)\n\u001b[1;32m----> 3\u001b[0m     \u001b[38;5;28mprint\u001b[39m(\u001b[38;5;241;43m2\u001b[39;49m\u001b[38;5;241;43m/\u001b[39;49m\u001b[38;5;241;43m0\u001b[39;49m)\n\u001b[0;32m      4\u001b[0m     \u001b[38;5;28mprint\u001b[39m(\u001b[38;5;241m3\u001b[39m)\n\u001b[0;32m      5\u001b[0m \u001b[38;5;28;01melse\u001b[39;00m:\n",
      "\u001b[1;31mZeroDivisionError\u001b[0m: division by zero"
     ]
    }
   ],
   "source": [
    "if 100>10:\n",
    "    print(\"jadav\")\n",
    "    print(2/0)\n",
    "    print(3)\n",
    "else:\n",
    "    print(\"madhu\")\n",
    "    print(4)\n",
    "    print(5)"
   ]
  },
  {
   "cell_type": "code",
   "execution_count": 30,
   "id": "7fa179bf",
   "metadata": {},
   "outputs": [
    {
     "data": {
      "text/plain": [
       "0"
      ]
     },
     "execution_count": 30,
     "metadata": {},
     "output_type": "execute_result"
    }
   ],
   "source": [
    "4//5   #### it gives question"
   ]
  },
  {
   "cell_type": "code",
   "execution_count": 31,
   "id": "4c0b5620",
   "metadata": {},
   "outputs": [
    {
     "data": {
      "text/plain": [
       "4"
      ]
     },
     "execution_count": 31,
     "metadata": {},
     "output_type": "execute_result"
    }
   ],
   "source": [
    "4%5   #### it gives reminder"
   ]
  },
  {
   "cell_type": "markdown",
   "id": "11423fb2",
   "metadata": {},
   "source": [
    "### wap ask the user \n",
    "#enter a value from keyboard\n",
    "#find the number is odd or even\n",
    "#hint   num%2==0"
   ]
  },
  {
   "cell_type": "code",
   "execution_count": 34,
   "id": "997b2d13",
   "metadata": {},
   "outputs": [
    {
     "name": "stdout",
     "output_type": "stream",
     "text": [
      "enter the number87\n",
      "the 87 is odd\n"
     ]
    }
   ],
   "source": [
    "number=eval(input(\"enter the number\"))\n",
    "if number%2==0:\n",
    "    print(f\"the {number} is even\")\n",
    "else:\n",
    "    print(f\"the {number} is odd\")"
   ]
  },
  {
   "cell_type": "code",
   "execution_count": 35,
   "id": "bbddd0b2",
   "metadata": {},
   "outputs": [
    {
     "name": "stdout",
     "output_type": "stream",
     "text": [
      "enter the number24\n",
      "the 24 is even\n"
     ]
    }
   ],
   "source": [
    "number=eval(input(\"enter the number\"))\n",
    "if number%2==0:\n",
    "    print(f\"the {number} is even\")\n",
    "else:\n",
    "    print(f\"the {number} is odd\")"
   ]
  },
  {
   "cell_type": "code",
   "execution_count": 36,
   "id": "ed9eda59",
   "metadata": {},
   "outputs": [
    {
     "name": "stdout",
     "output_type": "stream",
     "text": [
      "the 34 is even\n"
     ]
    }
   ],
   "source": [
    "import random\n",
    "\n",
    "\n",
    "number=random.randint(1,100)\n",
    "if number%2==0:\n",
    "    print(f\"the {number} is even\")\n",
    "else:\n",
    "    print(f\"the {number} is odd\")"
   ]
  },
  {
   "cell_type": "code",
   "execution_count": 37,
   "id": "2098f81e",
   "metadata": {},
   "outputs": [
    {
     "name": "stdout",
     "output_type": "stream",
     "text": [
      "the 57 is odd\n"
     ]
    }
   ],
   "source": [
    "import random\n",
    "\n",
    "\n",
    "number=random.randint(1,100)\n",
    "if number%2==0:\n",
    "    print(f\"the {number} is even\")\n",
    "else:\n",
    "    print(f\"the {number} is odd\")"
   ]
  },
  {
   "cell_type": "markdown",
   "id": "8a492cef",
   "metadata": {},
   "source": [
    "# game program"
   ]
  },
  {
   "cell_type": "markdown",
   "id": "93648483",
   "metadata": {},
   "source": [
    "- there are two numbers\n",
    "- num1 comes from keyboard\n",
    "- num2 random\n",
    "- if both are equal \n",
    "  print you won\n",
    "- or print false    \n"
   ]
  },
  {
   "cell_type": "code",
   "execution_count": 45,
   "id": "ed71b2ac",
   "metadata": {},
   "outputs": [
    {
     "name": "stdout",
     "output_type": "stream",
     "text": [
      "enter the number5\n",
      "you loose\n"
     ]
    }
   ],
   "source": [
    "num1=random.randint(1,100)               # random number\n",
    "num2=eval(input(\"enter the number\"))      # input number\n",
    "if num1==num2:                            #condition num1==num3\n",
    "    print(\"you won\")                      #print(you won)\n",
    "else:\n",
    "    print(\"you loose\")                   # print(you loose)"
   ]
  },
  {
   "cell_type": "markdown",
   "id": "99641117",
   "metadata": {},
   "source": [
    "- wap ask the user how much distance need teavel\n",
    "- ask user enter charge per km\n",
    "- if the distance>25km\n",
    "-          then print total charge\n",
    "- otherwise\n",
    "-        print free ride"
   ]
  },
  {
   "cell_type": "code",
   "execution_count": 49,
   "id": "db80dcde",
   "metadata": {},
   "outputs": [
    {
     "name": "stdout",
     "output_type": "stream",
     "text": [
      "enter the distance45\n",
      "enter charge for km5\n",
      "total charge : 225\n"
     ]
    }
   ],
   "source": [
    "dis=eval(input(\"enter the distance\"))\n",
    "\n",
    "if dis>25:\n",
    "    charge=eval(input(\"enter charge for km\"))\n",
    "    print(f\"total charge : {charge*dis}\")\n",
    "else:\n",
    "          print(\"enjoy ride\")"
   ]
  },
  {
   "cell_type": "code",
   "execution_count": 50,
   "id": "46dbf248",
   "metadata": {},
   "outputs": [
    {
     "name": "stdout",
     "output_type": "stream",
     "text": [
      "enter the distance10\n",
      "enjoy ride\n"
     ]
    }
   ],
   "source": [
    "dis=eval(input(\"enter the distance\"))\n",
    "\n",
    "if dis>25:\n",
    "    charge=eval(input(\"enter charge for km\"))\n",
    "    print(f\"total charge : {charge*dis}\")\n",
    "else:\n",
    "          print(\"enjoy ride\")"
   ]
  },
  {
   "cell_type": "markdown",
   "id": "68cea316",
   "metadata": {},
   "source": [
    "# case-3:"
   ]
  },
  {
   "cell_type": "code",
   "execution_count": null,
   "id": "e20bc475",
   "metadata": {},
   "outputs": [],
   "source": []
  },
  {
   "cell_type": "markdown",
   "id": "47bc7dcd",
   "metadata": {},
   "source": [
    "- wap ask the user enter a number\n",
    "- if number equal to one than print 1\n",
    "- if number equal to 2   than print 2\n",
    "- if number equal to 3   than print \n",
    "- if number equal to 4 than print 4\n",
    "- else print bye"
   ]
  },
  {
   "cell_type": "code",
   "execution_count": 53,
   "id": "39afe4f8",
   "metadata": {},
   "outputs": [
    {
     "name": "stdout",
     "output_type": "stream",
     "text": [
      "enter the number1\n",
      "1\n"
     ]
    }
   ],
   "source": [
    "num=eval(input(\"enter the number\"))\n",
    "if num==1:\n",
    "    print(1)\n",
    "elif num==2:\n",
    "    print(2)\n",
    "else:\n",
    "    print(\"good bye\")"
   ]
  },
  {
   "cell_type": "markdown",
   "id": "0b95f791",
   "metadata": {},
   "source": [
    "- wap ask the user \n",
    "- enter marks percentage\n",
    "- if percentage>90 print A grade\n",
    "- if percentage between 70 and 90 print B grade\n",
    "- if percentage between 50 and 70 print c grade\n",
    "- if percentage between 35 and 50 print d grade\n",
    "- other wised fail"
   ]
  },
  {
   "cell_type": "code",
   "execution_count": 15,
   "id": "39856948",
   "metadata": {},
   "outputs": [
    {
     "name": "stdout",
     "output_type": "stream",
     "text": [
      "enter the percentage65\n",
      "grade-C\n"
     ]
    }
   ],
   "source": [
    "percentage=eval(input(\"enter the percentage\"))\n",
    "if percentage>=90:\n",
    "    print(\"grade-A\")\n",
    "elif percentage>=70:\n",
    "    print(\"grade-B\")\n",
    "elif percentage>=50:\n",
    "    print(\"grade-C\")\n",
    "elif percentage>=35:\n",
    "    print(\"grade-d\")\n",
    "else :\n",
    "    print(\"fail\")"
   ]
  },
  {
   "cell_type": "markdown",
   "id": "20eb65fa",
   "metadata": {},
   "source": [
    "- wap ask the user \n",
    "- enter age\n",
    "- if age>90 print lucky man\n",
    "- if age between 70 and 90 print old man\n",
    "- if age between 50 and 70 print sc\n",
    "- if age between 35 and 50 print middle aged\n",
    "- if age between 20 and 35 print young\n",
    "- if age between 13 and 20 print teen\n",
    "- other wised print kid"
   ]
  },
  {
   "cell_type": "code",
   "execution_count": 17,
   "id": "08b604a5",
   "metadata": {},
   "outputs": [
    {
     "name": "stdout",
     "output_type": "stream",
     "text": [
      "enter the age23\n",
      "young\n"
     ]
    }
   ],
   "source": [
    "age=eval(input(\"enter the age\"))\n",
    "if age>=90:\n",
    "    print(\"lucky man\")\n",
    "elif age>=70:\n",
    "    print(\"old man\")\n",
    "elif age>=50:\n",
    "    print(\"sc\")\n",
    "elif age>=35:\n",
    "    print(\"middle aged\")\n",
    "elif age>=20:\n",
    "    print(\"young\")\n",
    "elif age>=13:\n",
    "    print(\"teen\")\n",
    "else :\n",
    "    print(\"kid\")"
   ]
  },
  {
   "cell_type": "code",
   "execution_count": 25,
   "id": "473b190b",
   "metadata": {},
   "outputs": [
    {
     "name": "stdout",
     "output_type": "stream",
     "text": [
      "enter the number1:40\n",
      "enter the number212\n",
      "enter the operation 1 for addition\n",
      "enter the operation 2 for substration\n",
      "enter the operation 3 for multiplication\n",
      "enter the operation 4 for division\n",
      "enter the number between 1to 4:4\n",
      "the division of 40 and 12 is : 3.3333333333333335\n"
     ]
    }
   ],
   "source": [
    "num1=eval(input(\"enter the number1:\"))\n",
    "num2=eval(input(\"enter the number2\"))\n",
    "print(\"enter the operation 1 for addition\")\n",
    "print(\"enter the operation 2 for substration\")\n",
    "print(\"enter the operation 3 for multiplication\")\n",
    "print(\"enter the operation 4 for division\")\n",
    "\n",
    "operation=eval(input(\"enter the number between 1to 4:\"))\n",
    "\n",
    "if operation==1:\n",
    "    add=num1+num2\n",
    "    print(f\"the addition of {num1} and {num2} is : {add}\")\n",
    "elif operation==2:\n",
    "    sub=num1-num2\n",
    "    print(f\"the substration of {num1} and {num2} is : {sub}\")\n",
    "elif operation==3:\n",
    "    mul=num1*num2\n",
    "    print(f\"the multiplication of {num1} and {num2} is : {mul}\")\n",
    "elif operation==4:\n",
    "    div=num1/num2\n",
    "    print(f\"the division of {num1} and {num2} is : {div}\")\n",
    "else:\n",
    "               print(\"invalid operation\")"
   ]
  },
  {
   "cell_type": "markdown",
   "id": "dd8be8cb",
   "metadata": {},
   "source": [
    "- wap\n",
    "- ask the gender\n",
    "- if gender= male \n",
    "-     ask the user enter age\n",
    "-     if age greater than 30 then print middle age men\n",
    "-     otherwise print boy\n",
    "- elif gender= female\n",
    "-     ask the user enter age\n",
    "-     if age greater than 30 then print middle age women\n",
    "-     otherwise print girl\n",
    "- else\n",
    "- print enter valid gender"
   ]
  },
  {
   "cell_type": "code",
   "execution_count": 31,
   "id": "3af1e7f5",
   "metadata": {},
   "outputs": [
    {
     "name": "stdout",
     "output_type": "stream",
     "text": [
      "entyer the gender:male\n",
      "enter age20\n",
      "boy\n"
     ]
    }
   ],
   "source": [
    "gender=input(\"entyer the gender:\")\n",
    "if gender==\"male\":\n",
    "    age=eval(input(\"enter age\"))\n",
    "    if age>30:\n",
    "        print(\"middle aged\")\n",
    "    else:\n",
    "        print(\"boy\")\n",
    "elif gender==\"female\":\n",
    "    age=eval(input(\"enter age men\"))\n",
    "    if age>=(30):\n",
    "        print(\"middle aged women \")\n",
    "    else:\n",
    "        print(\"girl\")\n",
    "else:\n",
    "    print(\"enter valid gender \")\n",
    "    "
   ]
  },
  {
   "cell_type": "markdown",
   "id": "335f1310",
   "metadata": {},
   "source": [
    "- wap\n",
    "- ask the gender\n",
    "- if gender= female \n",
    "-     ask the id card id is there are not there\n",
    "-     if card is there \n",
    "-         print(\"enjoy the ride\")\n",
    "-     else:\n",
    "-          ask the user how much distance need to travel\n",
    "-          ask the user enter charge per km\n",
    "-          print total charge\n",
    "- elif gender= male \n",
    "-     ask the user how much distance need to travel\n",
    "-     ask the user enter charge per km\n",
    "-     print total charge\n",
    "- else \n",
    "-   print valid gender"
   ]
  },
  {
   "cell_type": "code",
   "execution_count": 36,
   "id": "4b66ec64",
   "metadata": {},
   "outputs": [
    {
     "name": "stdout",
     "output_type": "stream",
     "text": [
      "enter the gender: female\n",
      "is id thereno\n",
      "distance need to travel50\n",
      "charge per km5\n",
      "total_charge is:250\n"
     ]
    }
   ],
   "source": [
    "gender=input(\"enter the gender: \")\n",
    "if gender==\"female\":\n",
    "    i_d=input(\"is id there\")\n",
    "    if i_d==\"yes\":\n",
    "        print(\"enjoy ride\")\n",
    "    else:\n",
    "        dis=eval(input(\"distance need to travel\"))\n",
    "        fare_km=eval(input(\"charge per km\"))\n",
    "        total_charge=dis*fare_km\n",
    "        print( f\"total_charge is:{total_charge}\")\n",
    "elif gender==\"male\":\n",
    "        dis=eval(input(\"distance need to travel\"))\n",
    "        fare_km=eval(input(\"charge per km\"))\n",
    "        total_charge=dis*fare_km\n",
    "        print( f\"total_charge is:{total_charge}\")\n",
    "else:\n",
    "    print(\"invalid gender\")\n",
    "       \n",
    "    "
   ]
  },
  {
   "cell_type": "code",
   "execution_count": null,
   "id": "f2871c2f",
   "metadata": {},
   "outputs": [],
   "source": []
  }
 ],
 "metadata": {
  "kernelspec": {
   "display_name": "Python 3 (ipykernel)",
   "language": "python",
   "name": "python3"
  },
  "language_info": {
   "codemirror_mode": {
    "name": "ipython",
    "version": 3
   },
   "file_extension": ".py",
   "mimetype": "text/x-python",
   "name": "python",
   "nbconvert_exporter": "python",
   "pygments_lexer": "ipython3",
   "version": "3.11.7"
  }
 },
 "nbformat": 4,
 "nbformat_minor": 5
}
