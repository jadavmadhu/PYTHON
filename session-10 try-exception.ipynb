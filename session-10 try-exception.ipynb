{
 "cells": [
  {
   "cell_type": "markdown",
   "id": "447e9560-98e3-4858-83dc-f91faef0cfc7",
   "metadata": {},
   "source": [
    "- generally python is a sequencual process\n",
    "- which means if you get error , the compiler will not excute other statements\n",
    "- there is a situation even though if you got error in particular line compiler should excuite some part of the code \n",
    "- this is possible by using try-except method\n",
    "- we have two blocks\n",
    "-    try block\n",
    "-       original code will run under try block\n",
    "\n",
    "-    except block\n",
    "-       if any error comes it will re-direct to except block"
   ]
  },
  {
   "cell_type": "code",
   "execution_count": 2,
   "id": "e78eebcb-477c-48b4-9ef9-125b7e9d5ec2",
   "metadata": {},
   "outputs": [
    {
     "name": "stdout",
     "output_type": "stream",
     "text": [
      "helllo\n"
     ]
    }
   ],
   "source": [
    "try:\n",
    "    a=10\n",
    "    b=0\n",
    "    a/b\n",
    "except:\n",
    "    print(\"helllo\")"
   ]
  },
  {
   "cell_type": "code",
   "execution_count": 4,
   "id": "cc7ae46a-cd2e-4921-987e-dec87c8834fb",
   "metadata": {},
   "outputs": [
    {
     "name": "stdout",
     "output_type": "stream",
     "text": [
      "the value of a: 10\n",
      "helllo\n"
     ]
    }
   ],
   "source": [
    "try:\n",
    "    a=10\n",
    "    b=0\n",
    "    print(\"the value of a:\",a)\n",
    "    a/b\n",
    "    print(\" you will get error\")\n",
    "except:\n",
    "    print(\"helllo\")"
   ]
  },
  {
   "cell_type": "code",
   "execution_count": 8,
   "id": "905eb4b0-fcf8-404b-a2d9-1020007e07dd",
   "metadata": {},
   "outputs": [
    {
     "name": "stdout",
     "output_type": "stream",
     "text": [
      "the value of a: 10\n",
      "the value of b: 10\n",
      " you will get error\n"
     ]
    }
   ],
   "source": [
    "try:\n",
    "    a=10\n",
    "    b=10\n",
    "    print(\"the value of a:\",a)\n",
    "    print(\"the value of b:\",b)        #### if try code is correct it wont accept the except \n",
    "    a/b\n",
    "    print(\" you will get error\")\n",
    "except:\n",
    "    print(\"helllo\")"
   ]
  },
  {
   "cell_type": "code",
   "execution_count": 7,
   "id": "587c67b6-2cc3-472c-b1e8-bc03f1bd2842",
   "metadata": {},
   "outputs": [
    {
     "name": "stdout",
     "output_type": "stream",
     "text": [
      "hai\n",
      "hello\n"
     ]
    },
    {
     "name": "stdin",
     "output_type": "stream",
     "text": [
      "enter num1: 45\n",
      "enter num2: 45\n"
     ]
    },
    {
     "name": "stdout",
     "output_type": "stream",
     "text": [
      "the addition of 45 and 45 is : 90\n",
      "bye\n"
     ]
    }
   ],
   "source": [
    "print(\"hai\")\n",
    "print(\"hello\")\n",
    "try:\n",
    "    a=eval(input(\"enter num1:\"))\n",
    "    b=eval(input(\"enter num2:\"))\n",
    "    add=a+b\n",
    "    print(f\"the addition of {a} and {b} is : {add}\")\n",
    "except:\n",
    "    print(\"error is there \")\n",
    "    print(\"check the code\")\n",
    "print(\"bye\")"
   ]
  },
  {
   "cell_type": "code",
   "execution_count": 12,
   "id": "a1874771-a995-4135-a195-3fe0df80ebf9",
   "metadata": {},
   "outputs": [
    {
     "name": "stdout",
     "output_type": "stream",
     "text": [
      "hai\n",
      "hello\n"
     ]
    },
    {
     "name": "stdin",
     "output_type": "stream",
     "text": [
      "enter num1: 10\n",
      "enter num2: knhbvb\n"
     ]
    },
    {
     "name": "stdout",
     "output_type": "stream",
     "text": [
      "error is there \n",
      "check the code\n",
      "n2 is greater\n",
      "bye\n"
     ]
    }
   ],
   "source": [
    "print(\"hai\")\n",
    "print(\"hello\")\n",
    "\n",
    "try:\n",
    "    a=eval(input(\"enter num1:\"))\n",
    "    b=eval(input(\"enter num2:\"))\n",
    "    add=a+b\n",
    "    print(f\"the addition of {a} and {b} is : {add}\")\n",
    "except:\n",
    "    print(\"error is there \")\n",
    "    print(\"check the code\")\n",
    "    n1=100\n",
    "    n2=200\n",
    "    if n1>n2:\n",
    "        print(\"n1 is greater\")\n",
    "    else:\n",
    "        print(\"n2 is greater\")\n",
    "\n",
    "print(\"bye\")"
   ]
  },
  {
   "cell_type": "markdown",
   "id": "70de3899-e49d-45ee-b51a-8b131f5f58d4",
   "metadata": {},
   "source": [
    "- syntax error\n",
    "    - if we miss the brackets(),\"\",:\n",
    "- name error\n",
    "    - if you not defined any name that in black colour\n",
    "- indentation error\n",
    "    - after : we need space\n",
    "- division error\n",
    "    - some number divioded by zero\n",
    "- value error\n",
    "    - number type conversion\n",
    "- type error\n",
    "    - any math operation on english letters\n"
   ]
  },
  {
   "cell_type": "code",
   "execution_count": 14,
   "id": "28146ace-81df-4e54-a29a-e82097738a81",
   "metadata": {},
   "outputs": [
    {
     "ename": "SyntaxError",
     "evalue": "incomplete input (3644312636.py, line 1)",
     "output_type": "error",
     "traceback": [
      "\u001b[1;36m  Cell \u001b[1;32mIn[14], line 1\u001b[1;36m\u001b[0m\n\u001b[1;33m    a=eval(input(\"enter num1:\")\u001b[0m\n\u001b[1;37m                               ^\u001b[0m\n\u001b[1;31mSyntaxError\u001b[0m\u001b[1;31m:\u001b[0m incomplete input\n"
     ]
    }
   ],
   "source": [
    "a=eval(input(\"enter num1:\")"
   ]
  },
  {
   "cell_type": "code",
   "execution_count": 16,
   "id": "b1b44494-9b7c-4525-a344-12c3b651e035",
   "metadata": {},
   "outputs": [
    {
     "name": "stdin",
     "output_type": "stream",
     "text": [
      "enter num1: jhwuhw\n"
     ]
    },
    {
     "ename": "NameError",
     "evalue": "name 'jhwuhw' is not defined",
     "output_type": "error",
     "traceback": [
      "\u001b[1;31m---------------------------------------------------------------------------\u001b[0m",
      "\u001b[1;31mNameError\u001b[0m                                 Traceback (most recent call last)",
      "Cell \u001b[1;32mIn[16], line 1\u001b[0m\n\u001b[1;32m----> 1\u001b[0m a\u001b[38;5;241m=\u001b[39m\u001b[38;5;28meval\u001b[39m(\u001b[38;5;28minput\u001b[39m(\u001b[38;5;124m\"\u001b[39m\u001b[38;5;124menter num1:\u001b[39m\u001b[38;5;124m\"\u001b[39m))\n",
      "File \u001b[1;32m<string>:1\u001b[0m\n",
      "\u001b[1;31mNameError\u001b[0m: name 'jhwuhw' is not defined"
     ]
    }
   ],
   "source": [
    "a=eval(input(\"enter num1:\"))"
   ]
  },
  {
   "cell_type": "code",
   "execution_count": 23,
   "id": "878bd506-2097-44ea-b4ad-71ac0c78f5f2",
   "metadata": {},
   "outputs": [
    {
     "name": "stdin",
     "output_type": "stream",
     "text": [
      "enter num1: 10\n",
      "enter num2: 0\n"
     ]
    },
    {
     "name": "stdout",
     "output_type": "stream",
     "text": [
      "division by zero\n"
     ]
    }
   ],
   "source": [
    "try:\n",
    "    a=int(input(\"enter num1:\"))\n",
    "    b=eval(input(\"enter num2:\"))\n",
    "    add=a/b\n",
    "    print(f\"the addition of {a} and {b} is : {add}\")\n",
    "except Exception as e:\n",
    "    print(e)\n",
    "    "
   ]
  },
  {
   "cell_type": "code",
   "execution_count": 22,
   "id": "0b12d2dd-4043-4d5a-a536-ed97bbf19f4d",
   "metadata": {},
   "outputs": [
    {
     "name": "stdin",
     "output_type": "stream",
     "text": [
      "enter num1: 10\n",
      "enter num2: 20\n"
     ]
    },
    {
     "name": "stdout",
     "output_type": "stream",
     "text": [
      "name 'bbbbb' is not defined\n"
     ]
    }
   ],
   "source": [
    "try:\n",
    "    a=int(input(\"enter num1:\"))\n",
    "    b=eval(input(\"enter num2:\"))\n",
    "    add=a+bbbbb\n",
    "    print(f\"the addition of {a} and {b} is : {add}\")\n",
    "except Exception as e:\n",
    "    print(e)\n",
    "    "
   ]
  },
  {
   "cell_type": "code",
   "execution_count": 24,
   "id": "346d81fa-60c9-4d82-b484-34e524b228b3",
   "metadata": {},
   "outputs": [
    {
     "name": "stdin",
     "output_type": "stream",
     "text": [
      "enter num1: 10.44\n"
     ]
    },
    {
     "name": "stdout",
     "output_type": "stream",
     "text": [
      "invalid literal for int() with base 10: '10.44'\n"
     ]
    }
   ],
   "source": [
    "try:\n",
    "    a=int(input(\"enter num1:\"))\n",
    "    b=eval(input(\"enter num2:\"))\n",
    "    add=a+b\n",
    "    print(f\"the addition of {a} and {b} is : {add}\")\n",
    "except Exception as e:\n",
    "    print(e)\n",
    "    "
   ]
  },
  {
   "cell_type": "code",
   "execution_count": 25,
   "id": "3f9bac12-9598-482f-ba48-79d011f244b5",
   "metadata": {},
   "outputs": [
    {
     "name": "stdin",
     "output_type": "stream",
     "text": [
      "enter num1: python\n"
     ]
    },
    {
     "name": "stdout",
     "output_type": "stream",
     "text": [
      "invalid literal for int() with base 10: 'python'\n"
     ]
    }
   ],
   "source": [
    "try:\n",
    "    a=int(input(\"enter num1:\"))\n",
    "    b=eval(input(\"enter num2:\"))\n",
    "    add=a+b\n",
    "    print(f\"the addition of {a} and {b} is : {add}\")\n",
    "except Exception as e:\n",
    "    print(e)\n",
    "    "
   ]
  },
  {
   "cell_type": "code",
   "execution_count": 26,
   "id": "d4c7b619-1c98-4d3d-9ad3-f0ea7d8cdc92",
   "metadata": {},
   "outputs": [
    {
     "ename": "SyntaxError",
     "evalue": "incomplete input (1284904198.py, line 8)",
     "output_type": "error",
     "traceback": [
      "\u001b[1;36m  Cell \u001b[1;32mIn[26], line 8\u001b[1;36m\u001b[0m\n\u001b[1;33m    \u001b[0m\n\u001b[1;37m    ^\u001b[0m\n\u001b[1;31mSyntaxError\u001b[0m\u001b[1;31m:\u001b[0m incomplete input\n"
     ]
    }
   ],
   "source": [
    "try:\n",
    "    a=int(input(\"enter num1:\"))\n",
    "    b=eval(input(\"enter num2:\"))\n",
    "    add=a+b\n",
    "    print(f\"the addition of {a} and {b} is : {add}\")         ### syntax error will not captured\n",
    "except Exception as e:\n",
    "    print(e\n",
    "    "
   ]
  },
  {
   "cell_type": "markdown",
   "id": "ec21af31-a603-4393-b255-0243fb319aff",
   "metadata": {},
   "source": [
    "**syntax errors will not captured by exception block**"
   ]
  },
  {
   "cell_type": "code",
   "execution_count": 31,
   "id": "622939df-575d-438b-a88c-5bb9cdb735e2",
   "metadata": {},
   "outputs": [
    {
     "name": "stdin",
     "output_type": "stream",
     "text": [
      "enter the number 5\n"
     ]
    },
    {
     "name": "stdout",
     "output_type": "stream",
     "text": [
      "the 5 is even\n"
     ]
    }
   ],
   "source": [
    "import random\n",
    "try:\n",
    "    number=random.randint(1,100)\n",
    "    if number%2==0:\n",
    "        print(f\"the {number} is even\")\n",
    "    else:\n",
    "        print(f\"the {number} is odd\")\n",
    "except Exception as\n"
   ]
  },
  {
   "cell_type": "code",
   "execution_count": null,
   "id": "5a76bce9-bf87-4ed4-834a-96474ccb4a8e",
   "metadata": {},
   "outputs": [],
   "source": []
  },
  {
   "cell_type": "code",
   "execution_count": null,
   "id": "1abc7874-6282-4714-95f5-86c9aee0dba0",
   "metadata": {},
   "outputs": [],
   "source": []
  }
 ],
 "metadata": {
  "kernelspec": {
   "display_name": "Python 3 (ipykernel)",
   "language": "python",
   "name": "python3"
  },
  "language_info": {
   "codemirror_mode": {
    "name": "ipython",
    "version": 3
   },
   "file_extension": ".py",
   "mimetype": "text/x-python",
   "name": "python",
   "nbconvert_exporter": "python",
   "pygments_lexer": "ipython3",
   "version": "3.11.7"
  }
 },
 "nbformat": 4,
 "nbformat_minor": 5
}
