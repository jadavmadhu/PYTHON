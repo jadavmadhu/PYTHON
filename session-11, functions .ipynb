{
 "cells": [
  {
   "cell_type": "markdown",
   "id": "2551ab48-42eb-4a8f-9b85-733cab99a9de",
   "metadata": {},
   "source": [
    "# functions"
   ]
  },
  {
   "cell_type": "markdown",
   "id": "3c2a4595-2278-4550-9064-36f5fd806395",
   "metadata": {},
   "source": [
    "- re-use of the code\n",
    "- imagine you want to calculate tax of all tax payers\n",
    "- suppose there are 100 tax payers are there\n",
    "- in order to calculate tax we required 5 lines of code\n",
    "- for 100 tax payres it will required 500 lines\n",
    "- this is not the good approach\n",
    "- bcz 5 lines we are repeating for 100 members\n",
    "- Here functions will help us how to use only these 5 lines to all tax payers"
   ]
  },
  {
   "cell_type": "code",
   "execution_count": 2,
   "id": "bbe164b9-4326-407e-829b-520cb92722a6",
   "metadata": {},
   "outputs": [
    {
     "name": "stdin",
     "output_type": "stream",
     "text": [
      "enter the salary 50000\n",
      "enter the tax per: 10\n"
     ]
    },
    {
     "name": "stdout",
     "output_type": "stream",
     "text": [
      "the amount of tax pay is 5000.0\n"
     ]
    }
   ],
   "source": [
    "salary=eval(input(\"enter the salary\"))\n",
    "tax_per=eval(input(\"enter the tax per:\"))\n",
    "tax_amount=salary*tax_per/100\n",
    "print(f\"the amount of tax pay is {tax_amount}\")"
   ]
  },
  {
   "cell_type": "markdown",
   "id": "a49d9a44-6341-47c2-a1ff-bb84d119af38",
   "metadata": {},
   "source": [
    "**syntax**\n",
    "- def function_name():\n",
    "-      - code starts here"
   ]
  },
  {
   "cell_type": "code",
   "execution_count": 3,
   "id": "954ee071-349a-459a-8d1e-ef8193616152",
   "metadata": {},
   "outputs": [
    {
     "name": "stdout",
     "output_type": "stream",
     "text": [
      "30\n"
     ]
    }
   ],
   "source": [
    "n1=10\n",
    "n2=20\n",
    "add=n1+n2\n",
    "print(add)"
   ]
  },
  {
   "cell_type": "markdown",
   "id": "1ed28eaf-9f5c-4356-8f8c-d8525a20fe65",
   "metadata": {},
   "source": [
    "**method 1:**\n",
    "**functions with out orguments**\n",
    "\n",
    "- when we define functions we will provide brackets\n",
    "- inside these brackets we can probvide values also\n",
    "- these values are called **arguments** or **parameter**\n",
    "- if we dont provide arguments it is known as\n",
    "    **functions with out orguments**"
   ]
  },
  {
   "cell_type": "code",
   "execution_count": 8,
   "id": "f4c3f6fb-fad5-46db-9b71-fd2d5e4e57a1",
   "metadata": {},
   "outputs": [],
   "source": [
    "def addition():\n",
    "    n1=10\n",
    "    n2=20\n",
    "    add=n1+n2\n",
    "    print(add) "
   ]
  },
  {
   "cell_type": "code",
   "execution_count": 6,
   "id": "4691e26c-9d6a-42d6-a2c5-ae88b4766f52",
   "metadata": {},
   "outputs": [
    {
     "name": "stdout",
     "output_type": "stream",
     "text": [
      "30\n"
     ]
    }
   ],
   "source": [
    "addition()"
   ]
  },
  {
   "cell_type": "markdown",
   "id": "fe676e51-ca63-47b3-baee-9172d2cd3abb",
   "metadata": {},
   "source": [
    "- commom mistakes\n",
    "- forgetting the brackets while define function\n",
    "     - syntax error\n",
    "- forgetting the collon\n",
    "     - syntax error\n",
    "- indentation error\n",
    "- forget make allingment while copying the code\n",
    "     - indentation error\n",
    "- function name and variable name must be different\n",
    "- while calling the function you will forgt the brackets\n",
    "**Function also called a method**\n",
    "  \n",
    "**whenever function is there brackets must"
   ]
  },
  {
   "cell_type": "code",
   "execution_count": 9,
   "id": "751f83e7-dff5-4294-b8fa-9ec8f6ecf4c2",
   "metadata": {},
   "outputs": [
    {
     "ename": "SyntaxError",
     "evalue": "expected '(' (2145257015.py, line 1)",
     "output_type": "error",
     "traceback": [
      "\u001b[1;36m  Cell \u001b[1;32mIn[9], line 1\u001b[1;36m\u001b[0m\n\u001b[1;33m    def addition:\u001b[0m\n\u001b[1;37m                ^\u001b[0m\n\u001b[1;31mSyntaxError\u001b[0m\u001b[1;31m:\u001b[0m expected '('\n"
     ]
    }
   ],
   "source": [
    "def addition:\n",
    "    n1=10\n",
    "    n2=20\n",
    "    add=n1+n2\n",
    "    print(add) "
   ]
  },
  {
   "cell_type": "code",
   "execution_count": 10,
   "id": "9bb934ab-4035-4473-932f-da6e330880ba",
   "metadata": {},
   "outputs": [
    {
     "ename": "SyntaxError",
     "evalue": "expected ':' (1621745469.py, line 1)",
     "output_type": "error",
     "traceback": [
      "\u001b[1;36m  Cell \u001b[1;32mIn[10], line 1\u001b[1;36m\u001b[0m\n\u001b[1;33m    def addition()\u001b[0m\n\u001b[1;37m                  ^\u001b[0m\n\u001b[1;31mSyntaxError\u001b[0m\u001b[1;31m:\u001b[0m expected ':'\n"
     ]
    }
   ],
   "source": [
    "def addition()\n",
    "    n1=10\n",
    "    n2=20\n",
    "    add=n1+n2\n",
    "    print(add) "
   ]
  },
  {
   "cell_type": "code",
   "execution_count": 20,
   "id": "4521e0bc-e34c-4463-83db-5d5414c6df01",
   "metadata": {},
   "outputs": [
    {
     "ename": "IndentationError",
     "evalue": "unindent does not match any outer indentation level (<tokenize>, line 3)",
     "output_type": "error",
     "traceback": [
      "\u001b[1;36m  File \u001b[1;32m<tokenize>:3\u001b[1;36m\u001b[0m\n\u001b[1;33m    n2=20\u001b[0m\n\u001b[1;37m    ^\u001b[0m\n\u001b[1;31mIndentationError\u001b[0m\u001b[1;31m:\u001b[0m unindent does not match any outer indentation level\n"
     ]
    }
   ],
   "source": [
    "def addition():\n",
    "    n1=10\n",
    " n2=20\n",
    " add=n1+n2\n",
    " print(add) "
   ]
  },
  {
   "cell_type": "code",
   "execution_count": 21,
   "id": "9594a815-cfa2-4bf2-afe0-652378d5cd5e",
   "metadata": {},
   "outputs": [],
   "source": [
    "def add():\n",
    "    n1=10\n",
    "    n2=20\n",
    "    add=n1+n2\n",
    "    print(add) "
   ]
  },
  {
   "cell_type": "code",
   "execution_count": 23,
   "id": "d10d34a1-9a96-4905-9f59-59bbf5b2f8bc",
   "metadata": {},
   "outputs": [
    {
     "name": "stdout",
     "output_type": "stream",
     "text": [
      "30\n"
     ]
    }
   ],
   "source": [
    "add()"
   ]
  },
  {
   "cell_type": "code",
   "execution_count": 24,
   "id": "cc380640-b08a-4a99-992b-262cf21cba93",
   "metadata": {},
   "outputs": [
    {
     "data": {
      "text/plain": [
       "<function __main__.addition()>"
      ]
     },
     "execution_count": 24,
     "metadata": {},
     "output_type": "execute_result"
    }
   ],
   "source": [
    "def addition():\n",
    "    n1=10\n",
    "    n2=20\n",
    "    add=n1+n2\n",
    "    print(add) \n",
    "addition"
   ]
  },
  {
   "cell_type": "code",
   "execution_count": 27,
   "id": "4171af0c-0da9-4ac1-aa61-9d0034b60350",
   "metadata": {},
   "outputs": [],
   "source": [
    "def add1():\n",
    "    n1=eval(input(\"enter the number:\"))\n",
    "    n2=eval(input(\"enter the number:\"))\n",
    "    add=n111+n2\n",
    "    print(add)"
   ]
  },
  {
   "cell_type": "code",
   "execution_count": 28,
   "id": "a43945e0-324f-4712-a4d5-5b28f99aa9cf",
   "metadata": {},
   "outputs": [
    {
     "name": "stdin",
     "output_type": "stream",
     "text": [
      "enter the number: 10\n",
      "enter the number: 20\n"
     ]
    },
    {
     "ename": "NameError",
     "evalue": "name 'n111' is not defined",
     "output_type": "error",
     "traceback": [
      "\u001b[1;31m---------------------------------------------------------------------------\u001b[0m",
      "\u001b[1;31mNameError\u001b[0m                                 Traceback (most recent call last)",
      "Cell \u001b[1;32mIn[28], line 1\u001b[0m\n\u001b[1;32m----> 1\u001b[0m add1()\n",
      "Cell \u001b[1;32mIn[27], line 4\u001b[0m, in \u001b[0;36madd1\u001b[1;34m()\u001b[0m\n\u001b[0;32m      2\u001b[0m n1\u001b[38;5;241m=\u001b[39m\u001b[38;5;28meval\u001b[39m(\u001b[38;5;28minput\u001b[39m(\u001b[38;5;124m\"\u001b[39m\u001b[38;5;124menter the number:\u001b[39m\u001b[38;5;124m\"\u001b[39m))\n\u001b[0;32m      3\u001b[0m n2\u001b[38;5;241m=\u001b[39m\u001b[38;5;28meval\u001b[39m(\u001b[38;5;28minput\u001b[39m(\u001b[38;5;124m\"\u001b[39m\u001b[38;5;124menter the number:\u001b[39m\u001b[38;5;124m\"\u001b[39m))\n\u001b[1;32m----> 4\u001b[0m add\u001b[38;5;241m=\u001b[39mn111\u001b[38;5;241m+\u001b[39mn2\n\u001b[0;32m      5\u001b[0m \u001b[38;5;28mprint\u001b[39m(add)\n",
      "\u001b[1;31mNameError\u001b[0m: name 'n111' is not defined"
     ]
    }
   ],
   "source": [
    "add1()"
   ]
  },
  {
   "cell_type": "markdown",
   "id": "80994297-06ee-415c-b538-7af916eb6815",
   "metadata": {},
   "source": [
    "**Note**\n",
    "\n",
    "- when we dwfine function will not give the error \n",
    "- errors will display after calling the function only\n",
    "- "
   ]
  },
  {
   "cell_type": "markdown",
   "id": "c76cb103-d72f-40e0-a0f4-da12f57a5a2b",
   "metadata": {},
   "source": [
    "Q1)\n",
    "- create a function \n",
    "- read three numbers \n",
    "- find the average\n",
    "\n",
    "- Q2)\n",
    "- create a function ask the user enter the bill amount\n",
    "- enter the tip per\n",
    "- calculate total bill pay\n",
    "\n",
    "Q3)\n",
    "- wap ask the user\n",
    "- calculate the area of the circle\n",
    "- ask the user take radius from keyboard\n",
    "\n",
    "Q4)\n",
    "- wap ask the user take the breadyh and height\n",
    "- calculate the area of triangle\n",
    "- formula=0.5*b*h\n",
    "\n",
    "Q5)\n",
    "- enter a value from keyboard\n",
    "- find the number is odd or even\n",
    "- hint   num%2==0\n",
    "\n",
    "  "
   ]
  },
  {
   "cell_type": "code",
   "execution_count": 30,
   "id": "faca2c56-b564-42ef-82a2-c0ea76b67665",
   "metadata": {},
   "outputs": [
    {
     "name": "stdout",
     "output_type": "stream",
     "text": [
      "20.0\n"
     ]
    }
   ],
   "source": [
    "def average():\n",
    "    n1=10\n",
    "    n2=20\n",
    "    n3=30\n",
    "    avg=(n1+n2+n3)/3\n",
    "    print(avg)\n",
    "\n",
    "average()"
   ]
  },
  {
   "cell_type": "code",
   "execution_count": 31,
   "id": "ab9a7453-8aab-4e2d-b90b-3d3a1fe12fad",
   "metadata": {},
   "outputs": [
    {
     "name": "stdin",
     "output_type": "stream",
     "text": [
      "enter the total bill 1000\n",
      "enter the tip percentage 10\n"
     ]
    },
    {
     "name": "stdout",
     "output_type": "stream",
     "text": [
      "the total bill is 1100.0\n"
     ]
    }
   ],
   "source": [
    "def total_amount():\n",
    "    bill=eval(input(\"enter the total bill\"))\n",
    "    tip_per=eval(input(\"enter the tip percentage\"))\n",
    "    tip_amount=tip_per*bill/100\n",
    "    total_bill=bill+tip_amount\n",
    "    print(\"the total bill is\" ,total_bill)\n",
    "\n",
    "total_amount()\n"
   ]
  },
  {
   "cell_type": "code",
   "execution_count": 32,
   "id": "d0bca75b-ab0f-431e-a459-c5d6217af030",
   "metadata": {},
   "outputs": [
    {
     "name": "stdin",
     "output_type": "stream",
     "text": [
      "enter the radius: 65\n"
     ]
    },
    {
     "name": "stdout",
     "output_type": "stream",
     "text": [
      "area of circle is13273.23\n"
     ]
    }
   ],
   "source": [
    "import math\n",
    "pi=math.pi\n",
    "def area():\n",
    "    radius=eval(input(\"enter the radius:\"))\n",
    "    area1=round(pi*radius*radius,2)\n",
    "    print(f\"area of circle is{area1}\")\n",
    "\n",
    "area()"
   ]
  },
  {
   "cell_type": "code",
   "execution_count": 34,
   "id": "0c1f8197-b6a1-4f97-8f65-481b426b97c1",
   "metadata": {},
   "outputs": [
    {
     "name": "stdin",
     "output_type": "stream",
     "text": [
      "enter breadth: 10\n",
      "enter height: 20\n"
     ]
    },
    {
     "name": "stdout",
     "output_type": "stream",
     "text": [
      "area of triangle is 100.0\n"
     ]
    }
   ],
   "source": [
    "def area():\n",
    "    breadth=eval(input(\"enter breadth:\"))\n",
    "    height=eval(input(\"enter height:\"))\n",
    "    area1=round(0.5*breadth*height,2)\n",
    "    print(f\"area of triangle is {area1}\")\n",
    "\n",
    "area()"
   ]
  },
  {
   "cell_type": "code",
   "execution_count": 36,
   "id": "dac59474-6672-478e-b088-9105065772c0",
   "metadata": {},
   "outputs": [],
   "source": [
    "def number1():\n",
    "    number=eval(input(\"enter the number\"))\n",
    "    if number%2==0:\n",
    "        print(f\"the {number} is even\")\n",
    "    else:\n",
    "        print(f\"the {number} is odd\")"
   ]
  },
  {
   "cell_type": "code",
   "execution_count": 37,
   "id": "20daf26c-5e48-45ac-a1ef-598047d718ca",
   "metadata": {},
   "outputs": [
    {
     "name": "stdin",
     "output_type": "stream",
     "text": [
      "enter the number 5\n"
     ]
    },
    {
     "name": "stdout",
     "output_type": "stream",
     "text": [
      "the 5 is odd\n"
     ]
    }
   ],
   "source": [
    "number1()"
   ]
  },
  {
   "cell_type": "code",
   "execution_count": 45,
   "id": "37b4aded-3d04-4efd-9643-1c6c23fd0934",
   "metadata": {},
   "outputs": [
    {
     "name": "stdin",
     "output_type": "stream",
     "text": [
      "enter the number 0\n"
     ]
    },
    {
     "name": "stdout",
     "output_type": "stream",
     "text": [
      "0 is zero\n"
     ]
    }
   ],
   "source": [
    "def number():\n",
    "    n1=eval(input(\"enter the number\"))\n",
    "    if n1<0:\n",
    "        print(f\"{n1} is negative\")\n",
    "    elif n1>0:\n",
    "            print(f\"{n1} is positive\")\n",
    "    else:\n",
    "        print(f\"{n1} is zero\")\n",
    "\n",
    "number()"
   ]
  },
  {
   "cell_type": "code",
   "execution_count": 51,
   "id": "2e1277f5-be93-404a-9b99-8ba83869dc36",
   "metadata": {},
   "outputs": [
    {
     "name": "stdin",
     "output_type": "stream",
     "text": [
      "enter the number: 10\n",
      "enter the number: 50\n",
      "enter the number: 20\n"
     ]
    },
    {
     "name": "stdout",
     "output_type": "stream",
     "text": [
      "50 is greater\n"
     ]
    }
   ],
   "source": [
    "def greatest():\n",
    "    n1=eval(input(\"enter the number:\"))\n",
    "    n2=eval(input(\"enter the number:\"))\n",
    "    n3=eval(input(\"enter the number:\"))\n",
    "    if n1>n2 and n1>n3:\n",
    "                print(f\"{n1} is greater\")\n",
    "    elif n2>n1 and n2>n3:\n",
    "                print(f\"{n2} is greater\")\n",
    "    else :\n",
    "                print(f\"{n3} is greater\") \n",
    "greatest()"
   ]
  },
  {
   "cell_type": "markdown",
   "id": "f00c050e-5a46-4a7d-89e4-a5bfb2931d1a",
   "metadata": {},
   "source": [
    "**method 2:**\n",
    "**function with arguments**\n",
    "\n",
    "- how mant variables are there in tha function\n",
    "-       - input variables:user will provide\n",
    "-       - suppose n1 and n2 are two input variables\n",
    "-       - output variable: using n1 and n2\n"
   ]
  },
  {
   "cell_type": "markdown",
   "id": "ba022568-5be9-403d-8690-01769764b1c0",
   "metadata": {},
   "source": [
    "**concentrate on input variable**"
   ]
  },
  {
   "cell_type": "code",
   "execution_count": 55,
   "id": "8e6afb8f-a09d-49d7-8e15-a5cfa4e3c5c6",
   "metadata": {},
   "outputs": [
    {
     "ename": "TypeError",
     "evalue": "average() missing 2 required positional arguments: 'n1' and 'n2'",
     "output_type": "error",
     "traceback": [
      "\u001b[1;31m---------------------------------------------------------------------------\u001b[0m",
      "\u001b[1;31mTypeError\u001b[0m                                 Traceback (most recent call last)",
      "Cell \u001b[1;32mIn[55], line 6\u001b[0m\n\u001b[0;32m      3\u001b[0m     avg\u001b[38;5;241m=\u001b[39m(n1\u001b[38;5;241m+\u001b[39mn2)\u001b[38;5;241m/\u001b[39m\u001b[38;5;241m2\u001b[39m\n\u001b[0;32m      4\u001b[0m     \u001b[38;5;28mprint\u001b[39m(avg)\n\u001b[1;32m----> 6\u001b[0m average()\n",
      "\u001b[1;31mTypeError\u001b[0m: average() missing 2 required positional arguments: 'n1' and 'n2'"
     ]
    }
   ],
   "source": [
    "def average(n1,n2):\n",
    "    \n",
    "    avg=(n1+n2)/2\n",
    "    print(avg)\n",
    "\n",
    "average()"
   ]
  },
  {
   "cell_type": "code",
   "execution_count": 56,
   "id": "50749084-5ddb-403b-bac9-4a6a7c5ae481",
   "metadata": {},
   "outputs": [
    {
     "name": "stdout",
     "output_type": "stream",
     "text": [
      "15.0\n"
     ]
    }
   ],
   "source": [
    "def average(n1,n2):\n",
    "    \n",
    "    avg=(n1+n2)/2\n",
    "    print(avg)\n",
    "\n",
    "average(10,20)"
   ]
  },
  {
   "cell_type": "code",
   "execution_count": 60,
   "id": "d51e7161-e2b6-4ccb-85a3-cc0ce8017617",
   "metadata": {},
   "outputs": [
    {
     "name": "stdout",
     "output_type": "stream",
     "text": [
      "the total bill is 1100.0\n"
     ]
    }
   ],
   "source": [
    "def total_amount(bill,tip_per):\n",
    "    tip_amount=tip_per*bill/100\n",
    "    total_bill=bill+tip_amount\n",
    "    print(\"the total bill is\" ,total_bill)\n",
    "\n",
    "total_amount(1000,10)"
   ]
  },
  {
   "cell_type": "code",
   "execution_count": 4,
   "id": "cce37605-e68a-4bfd-b247-b2b99ab962ea",
   "metadata": {},
   "outputs": [
    {
     "name": "stdin",
     "output_type": "stream",
     "text": [
      "enter the number: 5\n"
     ]
    },
    {
     "name": "stdout",
     "output_type": "stream",
     "text": [
      "35\n"
     ]
    }
   ],
   "source": [
    "def total(n1,n2):\n",
    "    n3=eval(input(\"enter the number:\"))\n",
    "    avg=n1+n2+n3\n",
    "    print(avg)\n",
    "\n",
    "total(10,20)"
   ]
  },
  {
   "cell_type": "code",
   "execution_count": 8,
   "id": "6bf6a4b0-01ac-4b98-aa7a-56d96996546c",
   "metadata": {},
   "outputs": [
    {
     "name": "stdin",
     "output_type": "stream",
     "text": [
      "enter the number:1 1\n",
      "enter the number:2 2\n",
      "enter the number:3 3\n"
     ]
    },
    {
     "name": "stdout",
     "output_type": "stream",
     "text": [
      "6\n"
     ]
    }
   ],
   "source": [
    "def total(n1):\n",
    "    n2=eval(input(\"enter the number:2\"))\n",
    "    n3=eval(input(\"enter the number:3\"))\n",
    "    avg=n1+n2+n3\n",
    "    print(avg)\n",
    "\n",
    "total(eval(input(\"enter the number:1\")))"
   ]
  },
  {
   "cell_type": "code",
   "execution_count": 12,
   "id": "a0ec9503-27f7-4f06-980a-3a95b76cb0fe",
   "metadata": {},
   "outputs": [
    {
     "name": "stdout",
     "output_type": "stream",
     "text": [
      "1\n",
      "1\n",
      "6\n",
      "8\n"
     ]
    }
   ],
   "source": [
    "import random\n",
    "def total(n1):\n",
    "    \n",
    "    n2=random.randint(1,10)\n",
    "    n3=random.randint(1,10)\n",
    "    total=n1+n2+n3\n",
    "    print(n1)\n",
    "    print(n2)\n",
    "    print(n3)\n",
    "    print(total)\n",
    "total(n1=random.randint(1,10))"
   ]
  },
  {
   "cell_type": "code",
   "execution_count": 13,
   "id": "787d66e7-753e-41aa-aa05-40bc0139dac4",
   "metadata": {},
   "outputs": [
    {
     "name": "stdin",
     "output_type": "stream",
     "text": [
      "enter the number 5\n"
     ]
    },
    {
     "name": "stdout",
     "output_type": "stream",
     "text": [
      "5\n",
      "2\n",
      "5\n",
      "12\n"
     ]
    }
   ],
   "source": [
    "def total(n1):\n",
    "    \n",
    "    n2=random.randint(1,10)\n",
    "    n3=random.randint(1,10)\n",
    "    total=n1+n2+n3\n",
    "    print(n1)\n",
    "    print(n2)\n",
    "    print(n3)\n",
    "    print(total)\n",
    "total(eval(input(\"enter the number\")))"
   ]
  },
  {
   "cell_type": "code",
   "execution_count": 14,
   "id": "81b369f6-ef68-4470-9ebc-c58a5b5d3cec",
   "metadata": {},
   "outputs": [
    {
     "name": "stdout",
     "output_type": "stream",
     "text": [
      "the total bill is 1100.0\n"
     ]
    }
   ],
   "source": [
    "def total_amount():\n",
    "    tip_per=10\n",
    "    bill=1000\n",
    "    tip_amount=tip_per*bill/100\n",
    "    total_bill=bill+tip_amount\n",
    "    print(\"the total bill is\" ,total_bill)\n",
    "\n",
    "total_amount()"
   ]
  },
  {
   "cell_type": "code",
   "execution_count": 15,
   "id": "3d458483-19b5-4619-935d-6c009e9d0905",
   "metadata": {},
   "outputs": [
    {
     "name": "stdin",
     "output_type": "stream",
     "text": [
      "enter the number 10\n",
      "enter the number 1000\n"
     ]
    },
    {
     "name": "stdout",
     "output_type": "stream",
     "text": [
      "the total bill is 1100.0\n"
     ]
    }
   ],
   "source": [
    "def total_amount():\n",
    "    tip_per=eval(input(\"enter the number\"))\n",
    "    bill=eval(input(\"enter the number\"))\n",
    "    tip_amount=tip_per*bill/100\n",
    "    total_bill=bill+tip_amount\n",
    "    print(\"the total bill is\" ,total_bill)\n",
    "\n",
    "total_amount()"
   ]
  },
  {
   "cell_type": "code",
   "execution_count": 17,
   "id": "f5b06250-92ad-4162-b77c-744fcbd283cb",
   "metadata": {},
   "outputs": [
    {
     "name": "stdout",
     "output_type": "stream",
     "text": [
      "2\n",
      "809\n",
      "the total bill is 825.18\n"
     ]
    }
   ],
   "source": [
    "def total_amount():\n",
    "    tip_per=random.randint(1,10)\n",
    "    bill=random.randint(1,1000)\n",
    "    tip_amount=tip_per*bill/100\n",
    "    total_bill=bill+tip_amount\n",
    "    print(tip_per)\n",
    "    print(bill)\n",
    "    print(\"the total bill is\" ,total_bill)\n",
    "\n",
    "total_amount()"
   ]
  },
  {
   "cell_type": "code",
   "execution_count": 20,
   "id": "840406a5-eaa5-4f3b-a159-f92f58e93aab",
   "metadata": {},
   "outputs": [
    {
     "name": "stdout",
     "output_type": "stream",
     "text": [
      "the total bill is 1100.0\n"
     ]
    }
   ],
   "source": [
    "def total_amount(tip_per,bill):\n",
    "    \n",
    "    tip_amount=tip_per*bill/100\n",
    "    total_bill=bill+tip_amount\n",
    "    print(\"the total bill is\" ,total_bill)\n",
    "\n",
    "total_amount(10,1000)"
   ]
  },
  {
   "cell_type": "code",
   "execution_count": 21,
   "id": "a7c40621-1599-4bb5-8ff7-0668ddf652cb",
   "metadata": {},
   "outputs": [
    {
     "name": "stdin",
     "output_type": "stream",
     "text": [
      "enter the number 10\n",
      "enter the number 1000\n"
     ]
    },
    {
     "name": "stdout",
     "output_type": "stream",
     "text": [
      "the total bill is 1100.0\n"
     ]
    }
   ],
   "source": [
    "def total_amount(tip_per,bill):\n",
    "    \n",
    "    tip_amount=tip_per*bill/100\n",
    "    total_bill=bill+tip_amount\n",
    "    print(\"the total bill is\" ,total_bill)\n",
    "\n",
    "total_amount(eval(input(\"enter the number\")),\n",
    "            eval(input(\"enter the number\")))"
   ]
  },
  {
   "cell_type": "code",
   "execution_count": 23,
   "id": "65e1e858-d243-403b-b7c8-40dddbf714fa",
   "metadata": {},
   "outputs": [
    {
     "name": "stdout",
     "output_type": "stream",
     "text": [
      "1\n",
      "779\n",
      "the total bill is 786.79\n"
     ]
    }
   ],
   "source": [
    "def total_amount(tip_per,bill):\n",
    "    \n",
    "    tip_amount=tip_per*bill/100\n",
    "    total_bill=bill+tip_amount\n",
    "    print(tip_per)\n",
    "    print(bill)\n",
    "    print(\"the total bill is\" ,total_bill)\n",
    "\n",
    "total_amount((random.randint(1,10)),\n",
    "               (random.randint(1,1000)))"
   ]
  },
  {
   "cell_type": "markdown",
   "id": "fd7daef9-e1d6-4727-b36a-39bad1ffeb37",
   "metadata": {},
   "source": [
    "**de-fault argument**"
   ]
  },
  {
   "cell_type": "code",
   "execution_count": 27,
   "id": "65a534c0-f5f6-4034-9437-5cb7ededeb59",
   "metadata": {},
   "outputs": [
    {
     "name": "stdout",
     "output_type": "stream",
     "text": [
      "the total bill is 1100.0\n"
     ]
    }
   ],
   "source": [
    "def total_amount(bill,tip_per=10):\n",
    "    \n",
    "    tip_amount=tip_per*bill/100\n",
    "    total_bill=bill+tip_amount\n",
    "    print(\"the total bill is\" ,total_bill)\n",
    "\n",
    "total_amount(1000)"
   ]
  },
  {
   "cell_type": "code",
   "execution_count": null,
   "id": "7e78499b-ef16-4c31-9dbd-8a07dc36f93e",
   "metadata": {},
   "outputs": [],
   "source": []
  }
 ],
 "metadata": {
  "kernelspec": {
   "display_name": "Python 3 (ipykernel)",
   "language": "python",
   "name": "python3"
  },
  "language_info": {
   "codemirror_mode": {
    "name": "ipython",
    "version": 3
   },
   "file_extension": ".py",
   "mimetype": "text/x-python",
   "name": "python",
   "nbconvert_exporter": "python",
   "pygments_lexer": "ipython3",
   "version": "3.11.7"
  }
 },
 "nbformat": 4,
 "nbformat_minor": 5
}
