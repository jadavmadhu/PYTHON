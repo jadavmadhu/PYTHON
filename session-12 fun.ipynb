{
 "cells": [
  {
   "cell_type": "code",
   "execution_count": 7,
   "id": "ea809820-7eac-4374-ab42-d12c0fb5f78e",
   "metadata": {},
   "outputs": [
    {
     "ename": "UnboundLocalError",
     "evalue": "cannot access local variable 'a2' where it is not associated with a value",
     "output_type": "error",
     "traceback": [
      "\u001b[1;31m---------------------------------------------------------------------------\u001b[0m",
      "\u001b[1;31mUnboundLocalError\u001b[0m                         Traceback (most recent call last)",
      "Cell \u001b[1;32mIn[7], line 5\u001b[0m\n\u001b[0;32m      3\u001b[0m     a2\u001b[38;5;241m=\u001b[39m\u001b[38;5;241m100\u001b[39m\n\u001b[0;32m      4\u001b[0m     b\u001b[38;5;241m=\u001b[39m\u001b[38;5;241m20\u001b[39m\n\u001b[1;32m----> 5\u001b[0m add()\n",
      "Cell \u001b[1;32mIn[7], line 2\u001b[0m, in \u001b[0;36madd\u001b[1;34m()\u001b[0m\n\u001b[0;32m      1\u001b[0m \u001b[38;5;28;01mdef\u001b[39;00m \u001b[38;5;21madd\u001b[39m():\n\u001b[1;32m----> 2\u001b[0m     \u001b[38;5;28mprint\u001b[39m(a2\u001b[38;5;241m+\u001b[39mb)\n\u001b[0;32m      3\u001b[0m     a2\u001b[38;5;241m=\u001b[39m\u001b[38;5;241m100\u001b[39m\n\u001b[0;32m      4\u001b[0m     b\u001b[38;5;241m=\u001b[39m\u001b[38;5;241m20\u001b[39m\n",
      "\u001b[1;31mUnboundLocalError\u001b[0m: cannot access local variable 'a2' where it is not associated with a value"
     ]
    }
   ],
   "source": [
    "def add():\n",
    "    print(a2+b)\n",
    "    a2=100\n",
    "    b=20\n",
    "add()"
   ]
  },
  {
   "cell_type": "code",
   "execution_count": 3,
   "id": "3fe30a8f-2bd8-4f11-912a-2ede6532acc6",
   "metadata": {},
   "outputs": [
    {
     "ename": "NameError",
     "evalue": "name 'a1' is not defined",
     "output_type": "error",
     "traceback": [
      "\u001b[1;31m---------------------------------------------------------------------------\u001b[0m",
      "\u001b[1;31mNameError\u001b[0m                                 Traceback (most recent call last)",
      "Cell \u001b[1;32mIn[3], line 4\u001b[0m\n\u001b[0;32m      1\u001b[0m \u001b[38;5;28;01mdef\u001b[39;00m \u001b[38;5;21madd\u001b[39m():\n\u001b[0;32m      2\u001b[0m     \u001b[38;5;28mprint\u001b[39m(a1\u001b[38;5;241m+\u001b[39mb2)\n\u001b[1;32m----> 4\u001b[0m add()\n\u001b[0;32m      5\u001b[0m a1\u001b[38;5;241m=\u001b[39m\u001b[38;5;241m10\u001b[39m\n\u001b[0;32m      6\u001b[0m b2\u001b[38;5;241m=\u001b[39m\u001b[38;5;241m20\u001b[39m\n",
      "Cell \u001b[1;32mIn[3], line 2\u001b[0m, in \u001b[0;36madd\u001b[1;34m()\u001b[0m\n\u001b[0;32m      1\u001b[0m \u001b[38;5;28;01mdef\u001b[39;00m \u001b[38;5;21madd\u001b[39m():\n\u001b[1;32m----> 2\u001b[0m     \u001b[38;5;28mprint\u001b[39m(a1\u001b[38;5;241m+\u001b[39mb2)\n",
      "\u001b[1;31mNameError\u001b[0m: name 'a1' is not defined"
     ]
    }
   ],
   "source": [
    "def add():\n",
    "    print(a1+b2)\n",
    "\n",
    "add()\n",
    "a1=10\n",
    "b2=20"
   ]
  },
  {
   "cell_type": "code",
   "execution_count": 4,
   "id": "a73c9d36-6a22-40e6-a070-c5d9ba0085f1",
   "metadata": {},
   "outputs": [
    {
     "data": {
      "text/plain": [
       "10"
      ]
     },
     "execution_count": 4,
     "metadata": {},
     "output_type": "execute_result"
    }
   ],
   "source": [
    "a"
   ]
  },
  {
   "cell_type": "code",
   "execution_count": 11,
   "id": "61cb5dd7-5e0a-4017-8af2-75d3b0a5b500",
   "metadata": {},
   "outputs": [
    {
     "ename": "UnboundLocalError",
     "evalue": "cannot access local variable 'n' where it is not associated with a value",
     "output_type": "error",
     "traceback": [
      "\u001b[1;31m---------------------------------------------------------------------------\u001b[0m",
      "\u001b[1;31mUnboundLocalError\u001b[0m                         Traceback (most recent call last)",
      "Cell \u001b[1;32mIn[11], line 6\u001b[0m\n\u001b[0;32m      3\u001b[0m     n\u001b[38;5;241m=\u001b[39m\u001b[38;5;241m100\u001b[39m\n\u001b[0;32m      4\u001b[0m     b\u001b[38;5;241m=\u001b[39m\u001b[38;5;241m20\u001b[39m\n\u001b[1;32m----> 6\u001b[0m add()\n",
      "Cell \u001b[1;32mIn[11], line 2\u001b[0m, in \u001b[0;36madd\u001b[1;34m()\u001b[0m\n\u001b[0;32m      1\u001b[0m \u001b[38;5;28;01mdef\u001b[39;00m \u001b[38;5;21madd\u001b[39m():\n\u001b[1;32m----> 2\u001b[0m     \u001b[38;5;28mprint\u001b[39m(n\u001b[38;5;241m+\u001b[39mb)\n\u001b[0;32m      3\u001b[0m     n\u001b[38;5;241m=\u001b[39m\u001b[38;5;241m100\u001b[39m\n\u001b[0;32m      4\u001b[0m     b\u001b[38;5;241m=\u001b[39m\u001b[38;5;241m20\u001b[39m\n",
      "\u001b[1;31mUnboundLocalError\u001b[0m: cannot access local variable 'n' where it is not associated with a value"
     ]
    }
   ],
   "source": [
    "def add():\n",
    "    print(n+b)\n",
    "    n=100\n",
    "    b=20\n",
    "    \n",
    "add()"
   ]
  },
  {
   "cell_type": "code",
   "execution_count": 14,
   "id": "e54d3930-1730-4527-922d-45c351a46e07",
   "metadata": {},
   "outputs": [
    {
     "name": "stdout",
     "output_type": "stream",
     "text": [
      "100\n"
     ]
    }
   ],
   "source": [
    "n=10S\n",
    "def add():\n",
    "    global s\n",
    "    n=100\n",
    "    print(n)\n",
    "add()"
   ]
  },
  {
   "cell_type": "code",
   "execution_count": 19,
   "id": "fb2ec6bd-93e9-44ca-aa2b-1bcad7287042",
   "metadata": {},
   "outputs": [
    {
     "name": "stdout",
     "output_type": "stream",
     "text": [
      "100\n"
     ]
    }
   ],
   "source": [
    "n5=10\n",
    "def add2():\n",
    "    global g\n",
    "    n5=100\n",
    "    \n",
    "    print(n5)\n",
    "add2()"
   ]
  },
  {
   "cell_type": "code",
   "execution_count": 17,
   "id": "740c37b5-d7e5-40c4-9364-25a375e49c91",
   "metadata": {},
   "outputs": [
    {
     "name": "stdout",
     "output_type": "stream",
     "text": [
      "100\n"
     ]
    }
   ],
   "source": [
    "n6=10\n",
    "def add3():\n",
    "    global n6\n",
    "    n6=100\n",
    "    print(n6)\n",
    "add3()"
   ]
  },
  {
   "cell_type": "code",
   "execution_count": null,
   "id": "013a7f2f-ef7e-4903-b39d-c79eb5f58535",
   "metadata": {},
   "outputs": [],
   "source": [
    "def add():\n",
    "    a1=10\n",
    "    b2=20\n",
    "    print(a1+b2)\n",
    "global\n",
    "add()\n"
   ]
  },
  {
   "cell_type": "markdown",
   "id": "a28cfe54-2295-460a-81c2-ca6b87a47600",
   "metadata": {},
   "source": [
    "**Return_concept**"
   ]
  },
  {
   "cell_type": "code",
   "execution_count": 16,
   "id": "1b2b7452-b799-4f5e-9f2c-62364d7ca87a",
   "metadata": {},
   "outputs": [
    {
     "name": "stdout",
     "output_type": "stream",
     "text": [
      "30\n"
     ]
    },
    {
     "ename": "NameError",
     "evalue": "name 'num11' is not defined",
     "output_type": "error",
     "traceback": [
      "\u001b[1;31m---------------------------------------------------------------------------\u001b[0m",
      "\u001b[1;31mNameError\u001b[0m                                 Traceback (most recent call last)",
      "Cell \u001b[1;32mIn[16], line 7\u001b[0m\n\u001b[0;32m      5\u001b[0m     \u001b[38;5;28;01mreturn\u001b[39;00m(num11,num22)\n\u001b[0;32m      6\u001b[0m madhu\u001b[38;5;241m=\u001b[39madd()\n\u001b[1;32m----> 7\u001b[0m \u001b[38;5;28mprint\u001b[39m(num11,num22)\n",
      "\u001b[1;31mNameError\u001b[0m: name 'num11' is not defined"
     ]
    }
   ],
   "source": [
    "def add():\n",
    "    num11=10\n",
    "    num22=20\n",
    "    print(num11+num22)\n",
    "    return(num11,num22)\n",
    "madhu=add()\n",
    "print(num11,num22)"
   ]
  },
  {
   "cell_type": "code",
   "execution_count": 12,
   "id": "da3ce191-b694-4270-ad2c-fc5a743eb89f",
   "metadata": {},
   "outputs": [
    {
     "data": {
      "text/plain": [
       "(10, 20)"
      ]
     },
     "execution_count": 12,
     "metadata": {},
     "output_type": "execute_result"
    }
   ],
   "source": [
    "madhu"
   ]
  },
  {
   "cell_type": "code",
   "execution_count": 13,
   "id": "d37ad433-1656-4034-afe6-301bd6e55e48",
   "metadata": {},
   "outputs": [
    {
     "ename": "NameError",
     "evalue": "name 'num1' is not defined",
     "output_type": "error",
     "traceback": [
      "\u001b[1;31m---------------------------------------------------------------------------\u001b[0m",
      "\u001b[1;31mNameError\u001b[0m                                 Traceback (most recent call last)",
      "Cell \u001b[1;32mIn[13], line 1\u001b[0m\n\u001b[1;32m----> 1\u001b[0m \u001b[38;5;28mprint\u001b[39m(num1)\n",
      "\u001b[1;31mNameError\u001b[0m: name 'num1' is not defined"
     ]
    }
   ],
   "source": [
    "print(num1)"
   ]
  },
  {
   "cell_type": "code",
   "execution_count": 2,
   "id": "4f31aaba-59ce-42c6-8ac3-dd1a1baade36",
   "metadata": {},
   "outputs": [],
   "source": [
    "def add():\n",
    "    num11=10\n",
    "    num22=20\n",
    "    sum=(num11+num22)\n",
    "    return(num11,num22)\n",
    "madhu=add()\n",
    "#print(num11,num22)"
   ]
  },
  {
   "cell_type": "code",
   "execution_count": 3,
   "id": "4bef72f9-98c4-437a-98bd-70e6d0c8f048",
   "metadata": {},
   "outputs": [
    {
     "data": {
      "text/plain": [
       "(10, 20)"
      ]
     },
     "execution_count": 3,
     "metadata": {},
     "output_type": "execute_result"
    }
   ],
   "source": [
    "madhu\n"
   ]
  },
  {
   "cell_type": "code",
   "execution_count": 10,
   "id": "1c1caf06-e126-4d26-9543-981066e498a2",
   "metadata": {},
   "outputs": [
    {
     "name": "stdout",
     "output_type": "stream",
     "text": [
      "10\n",
      "(10, 20)\n"
     ]
    }
   ],
   "source": [
    "def jadav():\n",
    "    m1=10\n",
    "    m3=20\n",
    "    sum=m1+m2\n",
    "    return(m1,m3)\n",
    "m3=jadav()\n",
    "print(m1)\n",
    "print(m3)"
   ]
  },
  {
   "cell_type": "code",
   "execution_count": 9,
   "id": "caffdab7-6db2-4a64-a052-00c0cd4ab40b",
   "metadata": {},
   "outputs": [
    {
     "name": "stdout",
     "output_type": "stream",
     "text": [
      "20\n"
     ]
    }
   ],
   "source": [
    "print(m2)"
   ]
  },
  {
   "cell_type": "code",
   "execution_count": 11,
   "id": "31db5a6b-b729-49b0-bd1c-edc25e29528c",
   "metadata": {},
   "outputs": [
    {
     "data": {
      "text/plain": [
       "(10, 20)"
      ]
     },
     "execution_count": 11,
     "metadata": {},
     "output_type": "execute_result"
    }
   ],
   "source": [
    "m3\n"
   ]
  },
  {
   "cell_type": "code",
   "execution_count": 12,
   "id": "aa2f485d-15b0-4185-9462-335a0c01ce6f",
   "metadata": {},
   "outputs": [
    {
     "name": "stdout",
     "output_type": "stream",
     "text": [
      "10 (10, 20)\n"
     ]
    }
   ],
   "source": [
    "print(m1,m3)"
   ]
  },
  {
   "cell_type": "code",
   "execution_count": null,
   "id": "37c270fe-2d77-437a-8fa9-1cdf81d313a1",
   "metadata": {},
   "outputs": [],
   "source": [
    "   "
   ]
  }
 ],
 "metadata": {
  "kernelspec": {
   "display_name": "Python 3 (ipykernel)",
   "language": "python",
   "name": "python3"
  },
  "language_info": {
   "codemirror_mode": {
    "name": "ipython",
    "version": 3
   },
   "file_extension": ".py",
   "mimetype": "text/x-python",
   "name": "python",
   "nbconvert_exporter": "python",
   "pygments_lexer": "ipython3",
   "version": "3.11.7"
  }
 },
 "nbformat": 4,
 "nbformat_minor": 5
}
