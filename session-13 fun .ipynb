{
 "cells": [
  {
   "cell_type": "code",
   "execution_count": 6,
   "id": "7141c8f9-03ff-41bd-89fe-f18668b57be1",
   "metadata": {},
   "outputs": [],
   "source": [
    "def add():\n",
    "    n1=10\n",
    "    n2=20\n",
    "    a=n1+n2\n",
    "    return(a,n1)\n",
    "val=add()"
   ]
  },
  {
   "cell_type": "code",
   "execution_count": 7,
   "id": "f72e919f-34fe-4694-9b8f-ddc58537bf2d",
   "metadata": {},
   "outputs": [
    {
     "data": {
      "text/plain": [
       "(30, 10)"
      ]
     },
     "execution_count": 7,
     "metadata": {},
     "output_type": "execute_result"
    }
   ],
   "source": [
    "val"
   ]
  },
  {
   "cell_type": "markdown",
   "id": "a4dfea66-dc51-4e48-a0e2-2a530321a4ee",
   "metadata": {},
   "source": [
    "**Function in functions**"
   ]
  },
  {
   "cell_type": "code",
   "execution_count": 9,
   "id": "e52dc7f8-1b16-4e7b-8da3-1528e3ecda51",
   "metadata": {},
   "outputs": [
    {
     "name": "stdout",
     "output_type": "stream",
     "text": [
      "===calling greet1 function====\n",
      "good morning\n",
      "===calling greet2 function====\n",
      "good night\n"
     ]
    }
   ],
   "source": [
    "def greet1():\n",
    "    print(\"===calling greet1 function====\")\n",
    "    print(\"good morning\")\n",
    "def greet2():\n",
    "    print(\"===calling greet2 function====\")\n",
    "    print(\"good night\")\n",
    "\n",
    "greet1()\n",
    "greet2()"
   ]
  },
  {
   "cell_type": "code",
   "execution_count": 10,
   "id": "6541ca24-1b53-487e-ac9a-0b5ec613e9f2",
   "metadata": {},
   "outputs": [
    {
     "name": "stdout",
     "output_type": "stream",
     "text": [
      "===calling greet1 function====\n",
      "===calling greet2 function====\n",
      "good night\n",
      "good morning\n"
     ]
    }
   ],
   "source": [
    "def greet1():\n",
    "    print(\"===calling greet1 function====\")\n",
    "    greet2()\n",
    "    print(\"good morning\")\n",
    "def greet2():\n",
    "    print(\"===calling greet2 function====\")\n",
    "    print(\"good night\")\n",
    "\n",
    "greet1()\n",
    "#greet2()\n",
    "\n",
    "#step-1:===calling greet1 function===\n",
    "#step-2:===calling greet2 function===\n",
    "#step-3:good night\n",
    "3step-4:good morning\n"
   ]
  },
  {
   "cell_type": "code",
   "execution_count": null,
   "id": "69021a86-a2a8-4291-84a3-d4edeb440512",
   "metadata": {},
   "outputs": [],
   "source": []
  }
 ],
 "metadata": {
  "kernelspec": {
   "display_name": "Python 3 (ipykernel)",
   "language": "python",
   "name": "python3"
  },
  "language_info": {
   "codemirror_mode": {
    "name": "ipython",
    "version": 3
   },
   "file_extension": ".py",
   "mimetype": "text/x-python",
   "name": "python",
   "nbconvert_exporter": "python",
   "pygments_lexer": "ipython3",
   "version": "3.11.7"
  }
 },
 "nbformat": 4,
 "nbformat_minor": 5
}
