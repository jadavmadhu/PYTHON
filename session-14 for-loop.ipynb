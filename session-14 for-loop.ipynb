{
 "cells": [
  {
   "cell_type": "markdown",
   "id": "2a9b32b4-358d-4d55-b5b4-fd4c9274d3fc",
   "metadata": {},
   "source": [
    "**Loops**\n",
    "\n",
    "- Function:Reuse of the code\n",
    "- loop: reuse of the code for multiple times unless the given condition satisfies\n",
    "\n",
    "  - for\n",
    "\n",
    "   - while loop\n",
    "\n",
    "- any loop requires 3 things\n",
    "    - start point\n",
    "    - what is the condition to stop \n",
    "    -  increment or decrement\n",
    " \n",
    "- in for loop we will apply all above three in single line\n",
    "\n",
    "- in while loop we will apply all the three lines in different lines"
   ]
  },
  {
   "cell_type": "markdown",
   "id": "f44e5703-2cba-4c4b-8f32-52708a5f6b89",
   "metadata": {},
   "source": [
    "# For loop : method-1"
   ]
  },
  {
   "cell_type": "code",
   "execution_count": null,
   "id": "b83b55c0-e0d2-44c7-96dc-a2da320ef0f6",
   "metadata": {},
   "outputs": [],
   "source": [
    "for i in range(<stop>):\n",
    "    print(i)"
   ]
  },
  {
   "cell_type": "code",
   "execution_count": 1,
   "id": "2e9afb57-1f2d-43f7-b8a0-0da7e40b6146",
   "metadata": {},
   "outputs": [
    {
     "name": "stdout",
     "output_type": "stream",
     "text": [
      "0\n",
      "1\n",
      "2\n"
     ]
    }
   ],
   "source": [
    "print(0)\n",
    "print(1)\n",
    "print(2)"
   ]
  },
  {
   "cell_type": "code",
   "execution_count": 2,
   "id": "bb827aa6-dd39-4856-94b1-645e3cb3158d",
   "metadata": {},
   "outputs": [
    {
     "name": "stdout",
     "output_type": "stream",
     "text": [
      "0\n",
      "1\n",
      "2\n"
     ]
    }
   ],
   "source": [
    "for i in range(3):\n",
    "    print(i)"
   ]
  },
  {
   "cell_type": "markdown",
   "id": "b63c065d-b813-41e7-b5fc-5e117edb5d9f",
   "metadata": {},
   "source": [
    "**note**:range(stop)\n",
    "\n",
    "- the default start point is zero\n",
    "\n",
    "  **python index srarts with zero**\n",
    "\n",
    "- default increment is one\n",
    "\n",
    "- last value = stop-1"
   ]
  },
  {
   "cell_type": "code",
   "execution_count": 3,
   "id": "c4ddb078-9438-43b3-a27b-e9aca098d380",
   "metadata": {},
   "outputs": [
    {
     "name": "stdout",
     "output_type": "stream",
     "text": [
      "0\n",
      "1\n",
      "2\n",
      "3\n",
      "4\n"
     ]
    }
   ],
   "source": [
    "for i in range(5):     #start value=0\n",
    "    print(i)           # increment=1\n",
    "                       # last value =4"
   ]
  },
  {
   "cell_type": "code",
   "execution_count": 7,
   "id": "d915d6a6-4523-4b47-873b-e34fa56d8e83",
   "metadata": {},
   "outputs": [
    {
     "name": "stdout",
     "output_type": "stream",
     "text": [
      "0\n",
      "1\n",
      "2\n",
      "3\n",
      "4\n"
     ]
    }
   ],
   "source": [
    "for i in range(5):     \n",
    "    print(i)     "
   ]
  },
  {
   "cell_type": "code",
   "execution_count": 6,
   "id": "6f2a2702-fc67-4ca2-94c1-8af718a82c53",
   "metadata": {},
   "outputs": [
    {
     "name": "stdout",
     "output_type": "stream",
     "text": [
      "0 1 2 3 4 "
     ]
    }
   ],
   "source": [
    "for i in range(5):\n",
    "    print(i,end=\" \")       #end for horizontal values"
   ]
  },
  {
   "cell_type": "code",
   "execution_count": 9,
   "id": "a9c92df5-6563-4ef6-b372-091d62c025e3",
   "metadata": {},
   "outputs": [
    {
     "name": "stdout",
     "output_type": "stream",
     "text": [
      "0 hello\n",
      "1 hello\n",
      "2 hello\n"
     ]
    }
   ],
   "source": [
    "for i in range(3):\n",
    "    print(i,\"hello\")"
   ]
  },
  {
   "cell_type": "code",
   "execution_count": 10,
   "id": "e38af1a5-905e-4213-bedb-4c67096a0bf8",
   "metadata": {},
   "outputs": [
    {
     "name": "stdout",
     "output_type": "stream",
     "text": [
      "hello\n",
      "hello\n",
      "hello\n"
     ]
    }
   ],
   "source": [
    "for i in range(3):\n",
    "    print(\"hello\")"
   ]
  },
  {
   "cell_type": "markdown",
   "id": "55946f70-63b0-44be-8d0f-6303cdc677e1",
   "metadata": {},
   "source": [
    "**Method-2**"
   ]
  },
  {
   "cell_type": "markdown",
   "id": "fe81fafa-1cb9-44ce-b275-95622fea44d6",
   "metadata": {},
   "source": [
    "**range(start,stop)**\n",
    "\n",
    "- start value = stsrt\n",
    "- default increment by 1\n",
    "- last value =stop-1"
   ]
  },
  {
   "cell_type": "code",
   "execution_count": 20,
   "id": "fc6a3168-94e6-4272-8a83-48fef3053a07",
   "metadata": {},
   "outputs": [
    {
     "name": "stdout",
     "output_type": "stream",
     "text": [
      "2  3  4  5  6  7  8  9  "
     ]
    }
   ],
   "source": [
    "for i in range(2,10):\n",
    "    print(i,end=\"  \")"
   ]
  },
  {
   "cell_type": "markdown",
   "id": "70588a01-ae63-4d43-a983-a0c050df209a",
   "metadata": {},
   "source": [
    "Q1) wap ask the user print square of the numbers from 1 to 5"
   ]
  },
  {
   "cell_type": "code",
   "execution_count": 24,
   "id": "d09a38e5-0ae6-4c7e-9adc-48265010cb4b",
   "metadata": {},
   "outputs": [
    {
     "name": "stdout",
     "output_type": "stream",
     "text": [
      "1  4  9  16  25  "
     ]
    }
   ],
   "source": [
    "for i in range(1,6):\n",
    "    print(i*i,end=\"  \")"
   ]
  },
  {
   "cell_type": "markdown",
   "id": "079a16a9-5aac-41f9-83fe-b458c34d558a",
   "metadata": {},
   "source": [
    "Q2) wap ask the user take 5 random numbers print the square of numbers"
   ]
  },
  {
   "cell_type": "code",
   "execution_count": 32,
   "id": "d25ff969-f9e6-4b54-9bbc-26a81ec914e3",
   "metadata": {},
   "outputs": [
    {
     "name": "stdout",
     "output_type": "stream",
     "text": [
      "the square of the 10 is 100\n",
      "the square of the 9 is 81\n",
      "the square of the 6 is 36\n",
      "the square of the 1 is 1\n",
      "the square of the 4 is 16\n"
     ]
    }
   ],
   "source": [
    "import random\n",
    "for i in range(5):\n",
    "    num=random.randint(1,10)\n",
    "    print(f\"the square of the {num} is {num*num}\")\n"
   ]
  },
  {
   "cell_type": "markdown",
   "id": "c4407818-d58f-49de-a387-e426a52f08c4",
   "metadata": {},
   "source": [
    "Q3)\n",
    "#create a function on reuse code lines\n",
    "\n",
    "#call that function inside the loop"
   ]
  },
  {
   "cell_type": "code",
   "execution_count": 40,
   "id": "0207983c-6e8f-481e-8a5e-3e9005196214",
   "metadata": {},
   "outputs": [
    {
     "name": "stdout",
     "output_type": "stream",
     "text": [
      "the square of the 7 is 49\n",
      "the square of the 5 is 25\n",
      "the square of the 2 is 4\n",
      "the square of the 5 is 25\n",
      "the square of the 2 is 4\n"
     ]
    }
   ],
   "source": [
    "def square():\n",
    "    num=random.randint(1,10)\n",
    "    print(f\"the square of the {num} is {num*num}\")\n",
    "\n",
    "for i in range(5):\n",
    "    square()\n",
    "             \n"
   ]
  },
  {
   "cell_type": "markdown",
   "id": "4ec73ce2-61ae-4fa2-98ec-25896fb6eadc",
   "metadata": {},
   "source": [
    "Q4) wap ask the user print the even or odd values between 11 to 21"
   ]
  },
  {
   "cell_type": "code",
   "execution_count": 44,
   "id": "700ddb4c-1643-405d-8222-eb57498e4f67",
   "metadata": {},
   "outputs": [
    {
     "name": "stdout",
     "output_type": "stream",
     "text": [
      "odd\n",
      "even\n",
      "odd\n",
      "even\n",
      "odd\n",
      "even\n",
      "odd\n",
      "even\n",
      "odd\n",
      "even\n",
      "odd\n"
     ]
    }
   ],
   "source": [
    "for i in range(11,22):\n",
    "    if i%2==0:\n",
    "        print(\"even\")\n",
    "    else:\n",
    "        print(\"odd\")"
   ]
  },
  {
   "cell_type": "markdown",
   "id": "400f1239-add7-4a4e-bf9c-4d9eab67047e",
   "metadata": {},
   "source": [
    "Q5)\n",
    "\n",
    "#wap ask the user enter a value 5 times from key board\n",
    "\n",
    "#print the value is even or odd"
   ]
  },
  {
   "cell_type": "code",
   "execution_count": 49,
   "id": "7429c5e9-9e92-42cb-9502-22f5f78d9841",
   "metadata": {},
   "outputs": [
    {
     "name": "stdin",
     "output_type": "stream",
     "text": [
      "enter the number 1\n"
     ]
    },
    {
     "name": "stdout",
     "output_type": "stream",
     "text": [
      "the 1 is odd\n"
     ]
    },
    {
     "name": "stdin",
     "output_type": "stream",
     "text": [
      "enter the number 2\n"
     ]
    },
    {
     "name": "stdout",
     "output_type": "stream",
     "text": [
      "the 2 is even\n"
     ]
    },
    {
     "name": "stdin",
     "output_type": "stream",
     "text": [
      "enter the number 3\n"
     ]
    },
    {
     "name": "stdout",
     "output_type": "stream",
     "text": [
      "the 3 is odd\n"
     ]
    },
    {
     "name": "stdin",
     "output_type": "stream",
     "text": [
      "enter the number 4\n"
     ]
    },
    {
     "name": "stdout",
     "output_type": "stream",
     "text": [
      "the 4 is even\n"
     ]
    },
    {
     "name": "stdin",
     "output_type": "stream",
     "text": [
      "enter the number 5\n"
     ]
    },
    {
     "name": "stdout",
     "output_type": "stream",
     "text": [
      "the 5 is odd\n"
     ]
    }
   ],
   "source": [
    "for i in range(5):\n",
    "    num=eval(input(\"enter the number\"))\n",
    "    if num%2==0:\n",
    "        print(f\"the {num} is even\")\n",
    "    else:\n",
    "        print(f\"the {num} is odd\")"
   ]
  },
  {
   "cell_type": "markdown",
   "id": "ee718377-689e-43a2-8662-682b402c226a",
   "metadata": {},
   "source": [
    "# method-3"
   ]
  },
  {
   "cell_type": "markdown",
   "id": "42519e86-fe12-43cb-bdb7-5ce482e08630",
   "metadata": {},
   "source": [
    "**range(start,stop,step)**\n",
    "\n",
    "- start= start value\n",
    "\n",
    "- step = increment value\n",
    "\n",
    "     - if increment value is positive\n",
    "\n",
    "        - last= stop-1\n",
    "\n",
    "     - if increment value is negative\n",
    "\n",
    "         - last = stop+1"
   ]
  },
  {
   "cell_type": "markdown",
   "id": "2d9aa14c-b453-424c-83c3-0092c8724481",
   "metadata": {},
   "source": [
    "**case-1**"
   ]
  },
  {
   "cell_type": "code",
   "execution_count": 55,
   "id": "02ea04ca-0dd5-4e70-9672-af562e312465",
   "metadata": {},
   "outputs": [
    {
     "name": "stdout",
     "output_type": "stream",
     "text": [
      "2   4   6   8   10   12   14   16   18   "
     ]
    }
   ],
   "source": [
    "for i in range(2,20,2):\n",
    "    print(i,end=\"   \")\n",
    "\n",
    "#step1=start=2\n",
    "#step2=step=2      positive direction\n",
    "#step3=end=20-1=19"
   ]
  },
  {
   "cell_type": "markdown",
   "id": "695b99e8-99f4-4cac-8fa8-af75546a1ee6",
   "metadata": {},
   "source": [
    "**case-2**"
   ]
  },
  {
   "cell_type": "code",
   "execution_count": 60,
   "id": "e63dece9-72c7-4108-be54-a7ecf7cd017a",
   "metadata": {},
   "outputs": [
    {
     "name": "stdout",
     "output_type": "stream",
     "text": [
      "2   0   -2   -4   -6   -8   -10   -12   -14   -16   -18   "
     ]
    }
   ],
   "source": [
    "for i in range(2,-20,-2):\n",
    "    print(i,end=\"   \")\n",
    "\n",
    "#step1=  start= 2\n",
    "#step2=  step= 2  (negative direction)\n",
    "#step3=  end= -20+1=19"
   ]
  },
  {
   "cell_type": "markdown",
   "id": "d8771957-a07e-4331-a3db-3b2191c34df1",
   "metadata": {},
   "source": [
    "**case-3**"
   ]
  },
  {
   "cell_type": "code",
   "execution_count": 63,
   "id": "a57db322-5eaa-4da6-943c-2464518bc49f",
   "metadata": {},
   "outputs": [
    {
     "name": "stdout",
     "output_type": "stream",
     "text": [
      "-2   -4   -6   -8   -10   -12   -14   -16   -18   "
     ]
    }
   ],
   "source": [
    "for i in range(-2,-20,-2):\n",
    "    print(i,end=\"   \")\n",
    "\n",
    "#step1=  start= 2\n",
    "#step2=  step= 2  (negative direction)\n",
    "#step3=  end= -20+1= -19"
   ]
  },
  {
   "cell_type": "markdown",
   "id": "03f9c3d8-7975-4102-a23f-64aeab4b7084",
   "metadata": {},
   "source": [
    "**case-4**"
   ]
  },
  {
   "cell_type": "code",
   "execution_count": 64,
   "id": "6d1949c4-de9e-4d28-ae72-9dc703782902",
   "metadata": {},
   "outputs": [],
   "source": [
    "for i in range(-2,20,-2):\n",
    "    print(i,end=\"   \")\n",
    "\n",
    "#step1=  start= -2\n",
    "#step2=  step= 2  (negative direction)\n",
    "#step3=  end= 20+1= 21"
   ]
  },
  {
   "cell_type": "code",
   "execution_count": null,
   "id": "25774f65-3ac0-488c-be10-39d88ae8b39d",
   "metadata": {},
   "outputs": [],
   "source": [
    "1)range("
   ]
  },
  {
   "cell_type": "code",
   "execution_count": null,
   "id": "29918ac6-7b56-4279-9fbf-b2c2934f9fd0",
   "metadata": {},
   "outputs": [],
   "source": []
  },
  {
   "cell_type": "code",
   "execution_count": 3,
   "id": "6920e3e8-2bf8-446d-9bbf-6b188aa4cb21",
   "metadata": {},
   "outputs": [
    {
     "name": "stdout",
     "output_type": "stream",
     "text": [
      "9\n",
      "18\n",
      "27\n",
      "36\n",
      "45\n",
      "54\n",
      "63\n",
      "72\n",
      "81\n",
      "90\n"
     ]
    }
   ],
   "source": [
    "for i in range(1,11):\n",
    "    a=i*9\n",
    "    print(a)"
   ]
  },
  {
   "cell_type": "markdown",
   "id": "8b3ed5b2-6104-459f-b207-1c1e56b79388",
   "metadata": {},
   "source": [
    "Q7)#wap to print the divisiors of number 50\n",
    "#"
   ]
  },
  {
   "cell_type": "code",
   "execution_count": 12,
   "id": "de1ba23a-46d9-4540-a134-589e2645774d",
   "metadata": {},
   "outputs": [
    {
     "name": "stdout",
     "output_type": "stream",
     "text": [
      "the number 1 is divider of 50\n",
      "the number 2 is divider of 50\n",
      "the number 5 is divider of 50\n",
      "the number 10 is divider of 50\n",
      "the number 25 is divider of 50\n",
      "the number 50 is divider of 50\n"
     ]
    }
   ],
   "source": [
    "for i in range(1,51):\n",
    "    if 50%i==0:\n",
    "        print(f\"the number {i} is divider of 50\")\n",
    "    "
   ]
  },
  {
   "cell_type": "code",
   "execution_count": 10,
   "id": "427e5c46-0bbe-4165-b4f6-2f69ffbc616b",
   "metadata": {},
   "outputs": [
    {
     "name": "stdout",
     "output_type": "stream",
     "text": [
      "1\n",
      "2\n",
      "5\n",
      "10\n",
      "25\n",
      "50\n"
     ]
    }
   ],
   "source": [
    "for i in range(1,51):\n",
    "    if 50%i==0:\n",
    "        print(i)"
   ]
  },
  {
   "cell_type": "code",
   "execution_count": 1,
   "id": "0ee0522b-df80-4bbe-b321-cd4a02b7d208",
   "metadata": {},
   "outputs": [
    {
     "name": "stdin",
     "output_type": "stream",
     "text": [
      "enter the number for which you want divisors 85\n"
     ]
    },
    {
     "name": "stdout",
     "output_type": "stream",
     "text": [
      "1\n",
      "5\n",
      "17\n",
      "85\n"
     ]
    }
   ],
   "source": [
    "num=eval(input(\"enter the number for which you want divisors\"))\n",
    "for i in range(1,num+1):\n",
    "    if num%i==0:\n",
    "        print(i)"
   ]
  },
  {
   "cell_type": "code",
   "execution_count": 17,
   "id": "6127cd7c-5b60-4f97-b87b-e2cfdf91323c",
   "metadata": {},
   "outputs": [
    {
     "name": "stdout",
     "output_type": "stream",
     "text": [
      "1\n",
      "2\n",
      "4\n",
      "17\n",
      "34\n",
      "68\n"
     ]
    }
   ],
   "source": [
    "def divisior(num):\n",
    "    for i in range(1,num+1):\n",
    "        if num%i==0:\n",
    "            print(i)\n",
    "divisior(68)"
   ]
  },
  {
   "cell_type": "markdown",
   "id": "9f84e6ef-2f76-4fc3-8fce-19f540b354e2",
   "metadata": {},
   "source": [
    "Q8) print the sum of first 10 natural numbers\n",
    "\n",
    "- when ever you want to do any sum program\n",
    "- it is like wrapper\n",
    "- 1\n",
    "- 2+1=3\n",
    "- 3+3=6\n",
    "- 4+6=10\n",
    "\n",
    "- sum=0\n",
    "- **for loop\n",
    "-    sum=sum+i\n",
    "-    print(sum)"
   ]
  },
  {
   "cell_type": "markdown",
   "id": "bc7ef65c-e7b8-4035-8efc-ba977d59f016",
   "metadata": {},
   "source": [
    "# sum wrapper"
   ]
  },
  {
   "cell_type": "code",
   "execution_count": 25,
   "id": "5b4dc738-702a-4188-bd7a-3d7f97cbef81",
   "metadata": {},
   "outputs": [
    {
     "name": "stdout",
     "output_type": "stream",
     "text": [
      " the sum of first 10 natural numbers are: 55\n"
     ]
    }
   ],
   "source": [
    "summ=0\n",
    "for i in range(1,11):\n",
    "    summ=summ+i\n",
    "print(f\" the sum of first 10 natural numbers are:\",summ)"
   ]
  },
  {
   "cell_type": "markdown",
   "id": "cafe1b90-8bb1-402c-8d65-0607597183bb",
   "metadata": {},
   "source": [
    "- do not give variable name as sum\n",
    "- if we do print inside it will print every answer \n",
    "- if we print out side the last value will be print"
   ]
  },
  {
   "cell_type": "code",
   "execution_count": 35,
   "id": "5777bd30-903b-4546-98bb-99c0d77cff2e",
   "metadata": {},
   "outputs": [
    {
     "data": {
      "text/plain": [
       "['False',\n",
       " 'None',\n",
       " 'True',\n",
       " 'and',\n",
       " 'as',\n",
       " 'assert',\n",
       " 'async',\n",
       " 'await',\n",
       " 'break',\n",
       " 'class',\n",
       " 'continue',\n",
       " 'def',\n",
       " 'del',\n",
       " 'elif',\n",
       " 'else',\n",
       " 'except',\n",
       " 'finally',\n",
       " 'for',\n",
       " 'from',\n",
       " 'global',\n",
       " 'if',\n",
       " 'import',\n",
       " 'in',\n",
       " 'is',\n",
       " 'lambda',\n",
       " 'nonlocal',\n",
       " 'not',\n",
       " 'or',\n",
       " 'pass',\n",
       " 'raise',\n",
       " 'return',\n",
       " 'try',\n",
       " 'while',\n",
       " 'with',\n",
       " 'yield']"
      ]
     },
     "execution_count": 35,
     "metadata": {},
     "output_type": "execute_result"
    }
   ],
   "source": [
    "import keyword\n",
    "keyword.kwlist"
   ]
  },
  {
   "cell_type": "code",
   "execution_count": 2,
   "id": "f5142828-c8e0-4a92-8f3b-9ea97b1a78b7",
   "metadata": {},
   "outputs": [
    {
     "data": {
      "text/plain": [
       "6"
      ]
     },
     "execution_count": 2,
     "metadata": {},
     "output_type": "execute_result"
    }
   ],
   "source": [
    "m=[1,2,3]\n",
    "sum(m)"
   ]
  },
  {
   "cell_type": "markdown",
   "id": "d81629c6-edc9-4151-be2e-d69c77cc5d32",
   "metadata": {},
   "source": [
    "# counter wrapper"
   ]
  },
  {
   "cell_type": "code",
   "execution_count": null,
   "id": "abf2e604-732d-4801-8331-6484c33ccb2e",
   "metadata": {},
   "outputs": [],
   "source": [
    "Q9) how many divisors are available for 50\n",
    "- divisoers are 1,2,5,10,25,50\n",
    "- now i want to print the number of divisiors are 6\n",
    "                                   "
   ]
  },
  {
   "cell_type": "code",
   "execution_count": 9,
   "id": "50e27a96-32d9-438c-bde6-83a2d02a010d",
   "metadata": {},
   "outputs": [
    {
     "name": "stdin",
     "output_type": "stream",
     "text": [
      "enter the number which you want divisior 50\n"
     ]
    },
    {
     "name": "stdout",
     "output_type": "stream",
     "text": [
      "number of divisiors of50 is = 6\n"
     ]
    }
   ],
   "source": [
    "count=0\n",
    "num=eval(input(\"enter the number which you want divisior\"))\n",
    "for i in range(1,num+1):\n",
    "    if num%i==0:\n",
    "        count=count+1\n",
    "print(f\"number of divisiors of{num} is = {count}\")"
   ]
  },
  {
   "cell_type": "code",
   "execution_count": 14,
   "id": "a119a430-7951-4bc5-9297-e35121a91591",
   "metadata": {},
   "outputs": [
    {
     "name": "stdin",
     "output_type": "stream",
     "text": [
      "enter the number for which you want divisors 10\n"
     ]
    },
    {
     "name": "stdout",
     "output_type": "stream",
     "text": [
      "4\n"
     ]
    }
   ],
   "source": [
    "count=0\n",
    "num=eval(input(\"enter the number for which you want divisors\"))\n",
    "for i in range(1,num+1):\n",
    "    if num%i==0:\n",
    "        count=count+1\n",
    "print(count)"
   ]
  },
  {
   "cell_type": "markdown",
   "id": "85ecd400-a834-45c9-9d14-104b29455c2e",
   "metadata": {},
   "source": [
    "- sum=0\n",
    "   - sum=sum+i\n",
    "\n",
    "\n",
    "\n",
    "- counter=0\n",
    "    - counter=counter+i"
   ]
  },
  {
   "cell_type": "markdown",
   "id": "97999b6c-1ba8-4248-a891-70e815dc6f5f",
   "metadata": {},
   "source": [
    "Q10) ask the user enter a number from keyboars\n",
    "- ask the user get the second number randomly from 1 to 10\n",
    "- if num1==num2 then print you won\n",
    "- other wise print you loose\n",
    "- iterate these lines 3 times"
   ]
  },
  {
   "cell_type": "code",
   "execution_count": 18,
   "id": "1df3e6cf-bc75-4210-92c4-3e05c91c61c4",
   "metadata": {},
   "outputs": [
    {
     "name": "stdin",
     "output_type": "stream",
     "text": [
      "enter the number1:  4\n"
     ]
    },
    {
     "name": "stdout",
     "output_type": "stream",
     "text": [
      "4 != 3 you loose the game\n"
     ]
    },
    {
     "name": "stdin",
     "output_type": "stream",
     "text": [
      "enter the number1:  6\n"
     ]
    },
    {
     "name": "stdout",
     "output_type": "stream",
     "text": [
      "6 != 1 you loose the game\n"
     ]
    },
    {
     "name": "stdin",
     "output_type": "stream",
     "text": [
      "enter the number1:  6\n"
     ]
    },
    {
     "name": "stdout",
     "output_type": "stream",
     "text": [
      "6 != 7 you loose the game\n"
     ]
    }
   ],
   "source": [
    "import random\n",
    "\n",
    "for i in range(3):\n",
    "    num1=eval(input(\"enter the number1: \"))\n",
    "    num2=random.randint(1,10)\n",
    "    if num==num2:\n",
    "        print(f\"{num1} == {num2} you won the game\")\n",
    "    else:\n",
    "        print(f\"{num1} != {num2} you loose the game\")\n"
   ]
  },
  {
   "cell_type": "markdown",
   "id": "eac6a0f3-fbc3-464e-bc81-477b2c0a46fc",
   "metadata": {},
   "source": [
    "# case-1\n",
    "\n",
    "\n",
    "\n",
    "- if we apply break\n",
    "- the code will stop running if the statement is correct\n",
    "- if we give range 3 times but the condition satisfies first time means\n",
    "- the code wont run for the second and third time"
   ]
  },
  {
   "cell_type": "code",
   "execution_count": 22,
   "id": "fe5a7441-5c40-413a-b9da-5cf6bbe66928",
   "metadata": {},
   "outputs": [
    {
     "name": "stdout",
     "output_type": "stream",
     "text": [
      "8\n"
     ]
    },
    {
     "name": "stdin",
     "output_type": "stream",
     "text": [
      "enter the number1:  8\n"
     ]
    },
    {
     "name": "stdout",
     "output_type": "stream",
     "text": [
      "8 == 8 you won the game\n"
     ]
    }
   ],
   "source": [
    "import random\n",
    "\n",
    "for i in range(3):\n",
    "    num2=random.randint(1,10)\n",
    "    print(num2)\n",
    "    num1=eval(input(\"enter the number1: \"))\n",
    "    if num1==num2:\n",
    "        print(f\"{num1} == {num2} you won the game\")\n",
    "        break\n",
    "    else:\n",
    "        print(f\"{num1} != {num2} you loose the game\")"
   ]
  },
  {
   "cell_type": "markdown",
   "id": "3b629547-86d1-4438-8f78-9d6e2b679037",
   "metadata": {},
   "source": [
    "# case-2\n",
    "- give 5 chances\n",
    "- whenever fails print the number of chances left\n",
    "\n"
   ]
  },
  {
   "cell_type": "code",
   "execution_count": 40,
   "id": "9d821475-ae54-4508-bc4d-5bb06d9493b8",
   "metadata": {},
   "outputs": [
    {
     "name": "stdin",
     "output_type": "stream",
     "text": [
      "enter the password 143\n"
     ]
    },
    {
     "name": "stdout",
     "output_type": "stream",
     "text": [
      "the password is correct,you can login\n"
     ]
    }
   ],
   "source": [
    "count=5\n",
    "for i in range(5):\n",
    "    num=eval(input(\"enter the password\"))\n",
    "    pswd=143\n",
    "    if num==pswd:\n",
    "                print(\"the password is correct,you can login\")\n",
    "                break\n",
    "    else:\n",
    "         print(\"the password is incorrect\")\n",
    "         count=count-1\n",
    "         print(f\"no.of attempts left is {count}\")"
   ]
  },
  {
   "cell_type": "markdown",
   "id": "7b002a2f-838d-4721-ba90-aa3098c9bcd1",
   "metadata": {},
   "source": [
    "# case-3 \n",
    "- suppose all chances are over\n",
    "- print your account locked try after 24 hours"
   ]
  },
  {
   "cell_type": "code",
   "execution_count": 39,
   "id": "e8b73db7-ce41-4ac0-8555-f9cea346e466",
   "metadata": {},
   "outputs": [
    {
     "name": "stdin",
     "output_type": "stream",
     "text": [
      "enter the password 4\n"
     ]
    },
    {
     "name": "stdout",
     "output_type": "stream",
     "text": [
      "the password is incorrect\n",
      "no.of attempts left 8 is 4\n"
     ]
    },
    {
     "name": "stdin",
     "output_type": "stream",
     "text": [
      "enter the password 143\n"
     ]
    },
    {
     "name": "stdout",
     "output_type": "stream",
     "text": [
      "the password is correct,you can login\n"
     ]
    }
   ],
   "source": [
    "count=5\n",
    "for i in range(5):\n",
    "    num=eval(input(\"enter the password\"))\n",
    "    pswd=143\n",
    "    if num==pswd:\n",
    "                print(\"the password is correct,you can login\")\n",
    "                break\n",
    "    else:\n",
    "         print(\"the password is incorrect\")\n",
    "         count=count-1\n",
    "         print(f\"no.of attempts left 8 is {count}\")\n",
    "         if count==0:\n",
    "            print(f\"your account has been blocked please try after 24 hrs\")"
   ]
  },
  {
   "cell_type": "markdown",
   "id": "4376ffc1-9702-4720-802a-6e1f0dc6f836",
   "metadata": {},
   "source": [
    "**in-operator**\n",
    "\n",
    "- there are two operators in for loop\n",
    "   - 1 is **range** operator\n",
    "        - range is for numbers\n",
    "   - 2 is **in** operator\n",
    "        - in is for charectors\n",
    "- "
   ]
  },
  {
   "cell_type": "code",
   "execution_count": 11,
   "id": "004b61ee-c8af-48b6-8922-e64d7204ffd3",
   "metadata": {},
   "outputs": [],
   "source": [
    "name =\"pythonhjeriohijbijvbeihjb\"\n"
   ]
  },
  {
   "cell_type": "code",
   "execution_count": 12,
   "id": "d9288d20-a289-4416-be81-84336e5809ea",
   "metadata": {},
   "outputs": [
    {
     "name": "stdout",
     "output_type": "stream",
     "text": [
      "p y t h o n h j e r i o h i j b i j v b e i h j b "
     ]
    }
   ],
   "source": [
    "for i in name:\n",
    "    print(i,end=\" \")"
   ]
  },
  {
   "cell_type": "code",
   "execution_count": 13,
   "id": "f889090a-3a75-40e7-be71-7bfc399c08c9",
   "metadata": {},
   "outputs": [
    {
     "name": "stdout",
     "output_type": "stream",
     "text": [
      "n\n",
      "a\n",
      "m\n",
      "e\n"
     ]
    }
   ],
   "source": [
    "for i in \"name\":\n",
    "    print(i)"
   ]
  },
  {
   "cell_type": "code",
   "execution_count": 15,
   "id": "64eeb992-c6a3-4f38-ae33-43fc3d6b8d00",
   "metadata": {},
   "outputs": [
    {
     "data": {
      "text/plain": [
       "True"
      ]
     },
     "execution_count": 15,
     "metadata": {},
     "output_type": "execute_result"
    }
   ],
   "source": [
    "'A'<'a'"
   ]
  },
  {
   "cell_type": "code",
   "execution_count": 17,
   "id": "2cfbeac6-5f56-43c6-bb3c-893fe304f5a6",
   "metadata": {},
   "outputs": [
    {
     "data": {
      "text/plain": [
       "False"
      ]
     },
     "execution_count": 17,
     "metadata": {},
     "output_type": "execute_result"
    }
   ],
   "source": [
    "'A'>'a'"
   ]
  },
  {
   "cell_type": "markdown",
   "id": "17946062-20fc-4161-8576-cc07d2590e5c",
   "metadata": {},
   "source": [
    "**ASCII**\n",
    "\n",
    "- american standard code for information interchange"
   ]
  },
  {
   "cell_type": "markdown",
   "id": "3d0ad30d-1816-4d0b-86c9-ff6e4c8a09bf",
   "metadata": {},
   "source": [
    "'A' = 65    'B' = 66\n",
    "\n",
    "\n",
    "'a' =97     'b' =98"
   ]
  },
  {
   "cell_type": "markdown",
   "id": "ee4ebe34-190a-44ab-a8fb-2b1e043fb279",
   "metadata": {},
   "source": [
    "**ord-chr**\n",
    "\n",
    "\n",
    "- ord is key word which provides ASCII number of charecters\n",
    "- chr is a key-word which provides characyers for given ASCII"
   ]
  },
  {
   "cell_type": "code",
   "execution_count": 18,
   "id": "a6d68d28-25fe-4121-9f85-e62d43c1996e",
   "metadata": {},
   "outputs": [
    {
     "data": {
      "text/plain": [
       "65"
      ]
     },
     "execution_count": 18,
     "metadata": {},
     "output_type": "execute_result"
    }
   ],
   "source": [
    "ord(\"A\")"
   ]
  },
  {
   "cell_type": "code",
   "execution_count": 21,
   "id": "0443ca27-ab99-4e8a-9e2c-68a71f574e90",
   "metadata": {},
   "outputs": [
    {
     "data": {
      "text/plain": [
       "'a'"
      ]
     },
     "execution_count": 21,
     "metadata": {},
     "output_type": "execute_result"
    }
   ],
   "source": [
    "chr(97)"
   ]
  },
  {
   "cell_type": "code",
   "execution_count": 23,
   "id": "06b1f092-cdb9-4473-bf6a-d231a77a1165",
   "metadata": {},
   "outputs": [
    {
     "data": {
      "text/plain": [
       "(65, 97)"
      ]
     },
     "execution_count": 23,
     "metadata": {},
     "output_type": "execute_result"
    }
   ],
   "source": [
    "ord(\"A\"),ord(\"a\")"
   ]
  },
  {
   "cell_type": "code",
   "execution_count": 26,
   "id": "69a136b0-a94f-48c3-a4e9-1f9c58402909",
   "metadata": {},
   "outputs": [
    {
     "data": {
      "text/plain": [
       "('A', 'a')"
      ]
     },
     "execution_count": 26,
     "metadata": {},
     "output_type": "execute_result"
    }
   ],
   "source": [
    "chr(65),chr(97)"
   ]
  },
  {
   "cell_type": "markdown",
   "id": "6c9fe443-6fd6-479e-87c5-d718b2c67156",
   "metadata": {},
   "source": [
    "print all the ascii numbers using for loop from A to Z\n",
    "\n",
    "ord(\"A\")\n",
    "ord(\"B\")\n",
    "ord(\"C\")"
   ]
  },
  {
   "cell_type": "markdown",
   "id": "c4e9e1a1-50bc-494d-ae9b-df5a5788288d",
   "metadata": {},
   "source": [
    "# PACKAGE NAME: STRING"
   ]
  },
  {
   "cell_type": "code",
   "execution_count": 29,
   "id": "5c78f85c-1227-4069-b815-be150c270fa4",
   "metadata": {},
   "outputs": [
    {
     "data": {
      "text/plain": [
       "['Formatter',\n",
       " 'Template',\n",
       " '_ChainMap',\n",
       " '__all__',\n",
       " '__builtins__',\n",
       " '__cached__',\n",
       " '__doc__',\n",
       " '__file__',\n",
       " '__loader__',\n",
       " '__name__',\n",
       " '__package__',\n",
       " '__spec__',\n",
       " '_re',\n",
       " '_sentinel_dict',\n",
       " '_string',\n",
       " 'ascii_letters',\n",
       " 'ascii_lowercase',\n",
       " 'ascii_uppercase',\n",
       " 'capwords',\n",
       " 'digits',\n",
       " 'hexdigits',\n",
       " 'octdigits',\n",
       " 'printable',\n",
       " 'punctuation',\n",
       " 'whitespace']"
      ]
     },
     "execution_count": 29,
     "metadata": {},
     "output_type": "execute_result"
    }
   ],
   "source": [
    "import string\n",
    "dir(string)"
   ]
  },
  {
   "cell_type": "code",
   "execution_count": 49,
   "id": "b9e8a7b7-2c81-4a69-9bdd-9a22e0ea9ce9",
   "metadata": {},
   "outputs": [
    {
     "data": {
      "text/plain": [
       "'abcdefghijklmnopqrstuvwxyzABCDEFGHIJKLMNOPQRSTUVWXYZ'"
      ]
     },
     "execution_count": 49,
     "metadata": {},
     "output_type": "execute_result"
    }
   ],
   "source": [
    "string.ascii_letters"
   ]
  },
  {
   "cell_type": "code",
   "execution_count": 41,
   "id": "d43cdd14-8b4f-490d-8ace-d8faf7b848ff",
   "metadata": {},
   "outputs": [
    {
     "name": "stdout",
     "output_type": "stream",
     "text": [
      "a\n",
      "b\n",
      "c\n",
      "d\n",
      "e\n",
      "f\n",
      "g\n",
      "h\n",
      "i\n",
      "j\n",
      "k\n",
      "l\n",
      "m\n",
      "n\n",
      "o\n",
      "p\n",
      "q\n",
      "r\n",
      "s\n",
      "t\n",
      "u\n",
      "v\n",
      "w\n",
      "x\n",
      "y\n",
      "z\n",
      "A\n",
      "B\n",
      "C\n",
      "D\n",
      "E\n",
      "F\n",
      "G\n",
      "H\n",
      "I\n",
      "J\n",
      "K\n",
      "L\n",
      "M\n",
      "N\n",
      "O\n",
      "P\n",
      "Q\n",
      "R\n",
      "S\n",
      "T\n",
      "U\n",
      "V\n",
      "W\n",
      "X\n",
      "Y\n",
      "Z\n"
     ]
    }
   ],
   "source": [
    "for i in string.ascii_letters:\n",
    "    print(i)"
   ]
  },
  {
   "cell_type": "code",
   "execution_count": 34,
   "id": "c16be181-d9cb-447f-83de-c5f91accdf4f",
   "metadata": {},
   "outputs": [],
   "source": [
    "m=string.ascii_letters"
   ]
  },
  {
   "cell_type": "code",
   "execution_count": 42,
   "id": "8e20d703-a482-4361-b934-ab0d9ea3b12a",
   "metadata": {},
   "outputs": [
    {
     "name": "stdout",
     "output_type": "stream",
     "text": [
      "a 97 b 98 c 99 d 100 e 101 f 102 g 103 h 104 i 105 j 106 k 107 l 108 m 109 n 110 o 111 p 112 q 113 r 114 s 115 t 116 u 117 v 118 w 119 x 120 y 121 z 122 A 65 B 66 C 67 D 68 E 69 F 70 G 71 H 72 I 73 J 74 K 75 L 76 M 77 N 78 O 79 P 80 Q 81 R 82 S 83 T 84 U 85 V 86 W 87 X 88 Y 89 Z 90 "
     ]
    }
   ],
   "source": [
    "for i in m:\n",
    "    print(i,ord(i),end=\" \")"
   ]
  },
  {
   "cell_type": "code",
   "execution_count": 43,
   "id": "82d62f71-b531-40ac-b4c5-9046ebcef8ab",
   "metadata": {},
   "outputs": [
    {
     "name": "stdout",
     "output_type": "stream",
     "text": [
      "a 97\n",
      "b 98\n",
      "c 99\n",
      "d 100\n",
      "e 101\n",
      "f 102\n",
      "g 103\n",
      "h 104\n",
      "i 105\n",
      "j 106\n",
      "k 107\n",
      "l 108\n",
      "m 109\n",
      "n 110\n",
      "o 111\n",
      "p 112\n",
      "q 113\n",
      "r 114\n",
      "s 115\n",
      "t 116\n",
      "u 117\n",
      "v 118\n",
      "w 119\n",
      "x 120\n",
      "y 121\n",
      "z 122\n"
     ]
    }
   ],
   "source": [
    "for i in string.ascii_lowercase:\n",
    "    print(i,ord(i))"
   ]
  },
  {
   "cell_type": "code",
   "execution_count": 44,
   "id": "91beb971-d876-4333-8c42-fc8b35d08a15",
   "metadata": {},
   "outputs": [
    {
     "name": "stdout",
     "output_type": "stream",
     "text": [
      "A 65\n",
      "B 66\n",
      "C 67\n",
      "D 68\n",
      "E 69\n",
      "F 70\n",
      "G 71\n",
      "H 72\n",
      "I 73\n",
      "J 74\n",
      "K 75\n",
      "L 76\n",
      "M 77\n",
      "N 78\n",
      "O 79\n",
      "P 80\n",
      "Q 81\n",
      "R 82\n",
      "S 83\n",
      "T 84\n",
      "U 85\n",
      "V 86\n",
      "W 87\n",
      "X 88\n",
      "Y 89\n",
      "Z 90\n"
     ]
    }
   ],
   "source": [
    "for i in string.ascii_uppercase:\n",
    "    print(i,ord(i))"
   ]
  },
  {
   "cell_type": "code",
   "execution_count": 2,
   "id": "09176161-0d8b-46df-b696-6ebbfcf09e78",
   "metadata": {},
   "outputs": [
    {
     "name": "stdout",
     "output_type": "stream",
     "text": [
      "3434 ൪3435 ൫3436 ൬3437 ൭3438 ൮3439 ൯3440 ൰3441 ൱3442 ൲3443 ൳3444 ൴3445 ൵3446 ൶3447 ൷3448 ൸3449 ൹3450 ൺ3451 ൻ3452 ർ3453 ൽ3454 ൾ3455 ൿ3456 ඀3457 ඁ3458 ං3459 ඃ3460 ඄3461 අ3462 ආ3463 ඇ3464 ඈ3465 ඉ3466 ඊ3467 උ3468 ඌ3469 ඍ3470 ඎ3471 ඏ3472 ඐ3473 එ3474 ඒ3475 ඓ3476 ඔ3477 ඕ3478 ඖ3479 ඗3480 ඘3481 ඙3482 ක3483 ඛ3484 ග3485 ඝ3486 ඞ3487 ඟ3488 ච3489 ඡ"
     ]
    }
   ],
   "source": [
    "for i in range(3434,3490):\n",
    "    print(i,chr(i),end=\"\")"
   ]
  },
  {
   "cell_type": "code",
   "execution_count": null,
   "id": "5558055d-ccb5-4a1a-a898-1b694908bbf9",
   "metadata": {},
   "outputs": [],
   "source": []
  }
 ],
 "metadata": {
  "kernelspec": {
   "display_name": "Python 3 (ipykernel)",
   "language": "python",
   "name": "python3"
  },
  "language_info": {
   "codemirror_mode": {
    "name": "ipython",
    "version": 3
   },
   "file_extension": ".py",
   "mimetype": "text/x-python",
   "name": "python",
   "nbconvert_exporter": "python",
   "pygments_lexer": "ipython3",
   "version": "3.11.7"
  }
 },
 "nbformat": 4,
 "nbformat_minor": 5
}
